{
 "cells": [
  {
   "cell_type": "code",
   "execution_count": 14,
   "source": [
    "from analysis import *\n",
    "import matplotlib.pyplot as plt\n",
    "import pickle\n",
    "import os\n",
    "import numpy as np\n",
    "from bookkeeper import *"
   ],
   "outputs": [],
   "metadata": {
    "pycharm": {
     "name": "#%%\n"
    }
   }
  },
  {
   "cell_type": "code",
   "execution_count": 15,
   "source": [
    "SIM_NAME = \"selfish_mine_test\"\n",
    "SIM_REPS = 1\n",
    "SIM_ITERS = 5000000\n",
    "\n",
    "print(SIM_NAME)\n",
    "for REP in range(SIM_REPS): \n",
    "    print(REP)\n",
    "    location = f'../dumps/{SIM_NAME}_{REP}'\n",
    "    nodes = []\n",
    "    for filename in os.listdir(os.fsencode(location)):\n",
    "        filename = filename.decode(\"utf-8\")\n",
    "        with open(f'{location}/{filename}', 'rb') as f:\n",
    "            if filename ==  'bookkeeper':\n",
    "                bookkeeper = pickle.load(f)\n",
    "            else:\n",
    "                nodes.append(pickle.load(f))\n",
    "\n",
    "    an = Analysis(bookkeeper, nodes)\n",
    "            \n",
    "    print(f'Loaded {len(nodes)} nodes.')\n",
    "\n",
    "    blocks = an.get_all_blocks()\n",
    "    print(f'Total blocks:\\t{len(blocks)}')\n",
    "\n",
    "    stale_rates = [an.stale_block_rate(node) for node in nodes]\n",
    "    print(f'Stale rate:\\t{round(np.mean(stale_rates), 5)}')\n",
    "\n",
    "    block_ints = [an.avg_block_interval(node) for node in nodes]\n",
    "    print(f'Block interval:\\t{np.mean(block_ints)} iters')\n",
    "\n",
    "    # delays_50 = [an.block_percentile_delay(block, 0.5) for id, block in blocks.items()]\n",
    "    # delays_90 = [an.block_percentile_delay(block, 0.9) for id, block in blocks.items()]\n",
    "    # print(f'50% delay:\\t{round(np.mean(delays_50), 2)} iters')\n",
    "    # print(f'90% delay:\\t{round(np.mean(delays_90), 2)} iters')\n",
    "\n",
    "    # tps = an.transactions_per_second(blocks.values(), SIM_ITERS / 10)\n",
    "    # print(f'Tx per second:\\t{tps}')"
   ],
   "outputs": [
    {
     "output_type": "stream",
     "name": "stdout",
     "text": [
      "selfish_mine_test\n",
      "0\n",
      "Loaded 2 nodes.\n",
      "Total blocks:\t836\n",
      "Stale rate:\t0.16029\n",
      "Block interval:\t7111.229018492177 iters\n"
     ]
    }
   ],
   "metadata": {
    "pycharm": {
     "name": "#%%\n"
    }
   }
  },
  {
   "cell_type": "code",
   "execution_count": 16,
   "source": [
    "honest = [node for node in nodes if 'HONEST' in node.name]\n",
    "selfish = [node for node in nodes if 'SELFISH' in node.name]\n",
    "print(len(honest))\n",
    "print(len(selfish))"
   ],
   "outputs": [
    {
     "output_type": "stream",
     "name": "stdout",
     "text": [
      "1\n",
      "1\n"
     ]
    }
   ],
   "metadata": {}
  },
  {
   "cell_type": "code",
   "execution_count": 4,
   "source": [
    "count = 0\n",
    "for block in honest[0].blockchain.values():\n",
    "    if type(block) != str and block.miner == 'SELFISH':\n",
    "        count += 1\n",
    "\n",
    "print(count)\n",
    "print(len(honest[0].blockchain))"
   ],
   "outputs": [
    {
     "output_type": "stream",
     "name": "stdout",
     "text": [
      "8\n",
      "20\n"
     ]
    }
   ],
   "metadata": {}
  },
  {
   "cell_type": "code",
   "execution_count": 5,
   "source": [
    "for block in honest[0].blockchain.values():\n",
    "    print(block.height, block.miner, block.id, block.prev_id)"
   ],
   "outputs": [
    {
     "output_type": "stream",
     "name": "stdout",
     "text": [
      "0 satoshi fef42d4a-fb16-469c-844f-193bd4ce9b19 None\n",
      "1 HONEST 7e8e16c8-3e1c-433d-bb4d-e4a945138b86 fef42d4a-fb16-469c-844f-193bd4ce9b19\n",
      "2 HONEST 56624b20-8684-4e99-a243-808f446baee0 7e8e16c8-3e1c-433d-bb4d-e4a945138b86\n",
      "3 HONEST a22f1099-eca8-467d-8efb-698c28b6c0ae 56624b20-8684-4e99-a243-808f446baee0\n",
      "4 HONEST c06dd3a8-d16f-41b9-996d-9ed6dd31fb1b a22f1099-eca8-467d-8efb-698c28b6c0ae\n",
      "5 HONEST d52ed087-124d-454a-8506-89a5318f1a61 c06dd3a8-d16f-41b9-996d-9ed6dd31fb1b\n",
      "5 SELFISH [SELFISH]384adbbc-8440-459d-9ddf-7779753dc1b7 c06dd3a8-d16f-41b9-996d-9ed6dd31fb1b\n",
      "6 HONEST 43416bdd-4337-40be-a235-a37bb11533a7 [SELFISH]384adbbc-8440-459d-9ddf-7779753dc1b7\n",
      "6 SELFISH [SELFISH]69fe7af4-ed78-465f-b998-1ce1eef02829 [SELFISH]384adbbc-8440-459d-9ddf-7779753dc1b7\n",
      "7 SELFISH [SELFISH]d2094d92-8e5e-4daa-9913-81a1b0413f9a [SELFISH]69fe7af4-ed78-465f-b998-1ce1eef02829\n",
      "8 HONEST 4754a852-4d3e-424a-a945-45d89e2958c3 [SELFISH]d2094d92-8e5e-4daa-9913-81a1b0413f9a\n",
      "9 HONEST 3c63b34f-2acf-4482-ba35-42ef99a9ba02 4754a852-4d3e-424a-a945-45d89e2958c3\n",
      "9 SELFISH [SELFISH]98fc7b06-d7ef-4009-999e-280810d860c0 4754a852-4d3e-424a-a945-45d89e2958c3\n",
      "10 SELFISH [SELFISH]87a8f39b-90a4-4830-9371-5fc897d401be [SELFISH]98fc7b06-d7ef-4009-999e-280810d860c0\n",
      "11 SELFISH [SELFISH]4c22a723-e691-4022-86e5-f4445d281906 [SELFISH]87a8f39b-90a4-4830-9371-5fc897d401be\n",
      "12 SELFISH [SELFISH]8e5d6e6f-26a7-4710-9772-70a19343f95f [SELFISH]4c22a723-e691-4022-86e5-f4445d281906\n",
      "13 HONEST c9b63a4e-eb06-489f-8510-db933574f720 [SELFISH]8e5d6e6f-26a7-4710-9772-70a19343f95f\n",
      "13 SELFISH [SELFISH]fb1d0d01-8d68-4939-8945-c362197a2826 [SELFISH]8e5d6e6f-26a7-4710-9772-70a19343f95f\n",
      "14 HONEST ef74ef21-d29c-41f3-bffb-58389c10cf3b [SELFISH]fb1d0d01-8d68-4939-8945-c362197a2826\n",
      "15 HONEST d8f70a65-0078-4dae-a790-e0b81443e307 ef74ef21-d29c-41f3-bffb-58389c10cf3b\n"
     ]
    }
   ],
   "metadata": {}
  },
  {
   "cell_type": "code",
   "execution_count": 6,
   "source": [
    "main_chain = an.get_longest_chain(an.get_all_blocks())"
   ],
   "outputs": [],
   "metadata": {}
  },
  {
   "cell_type": "code",
   "execution_count": 7,
   "source": [
    "h_count, s_count = 0, 0\n",
    "for block in main_chain:\n",
    "    if  block.miner == 'HONEST':\n",
    "        h_count += 1\n",
    "    elif block.miner == 'SELFISH':\n",
    "        s_count += 1\n",
    "\n",
    "print(h_count)\n",
    "print(s_count)"
   ],
   "outputs": [
    {
     "output_type": "stream",
     "name": "stdout",
     "text": [
      "7\n",
      "8\n"
     ]
    }
   ],
   "metadata": {}
  },
  {
   "cell_type": "code",
   "execution_count": 8,
   "source": [
    "node = selfish[0]\n",
    "[block.height for id, block in node.private_chain.items()]\n"
   ],
   "outputs": [
    {
     "output_type": "execute_result",
     "data": {
      "text/plain": [
       "[0, 1, 2, 3, 4, 5, 5, 6, 6, 7, 8, 9, 9, 10, 11, 12, 13, 13, 14, 15]"
      ]
     },
     "metadata": {},
     "execution_count": 8
    }
   ],
   "metadata": {}
  },
  {
   "cell_type": "code",
   "execution_count": 10,
   "source": [
    "selfish[0].private_chain"
   ],
   "outputs": [
    {
     "output_type": "execute_result",
     "data": {
      "text/plain": [
       "{'d11f5d95-7470-46da-99c9-ef526cd71842': <bitcoin.models.BTCBlock at 0x7f9b74f0bbe0>,\n",
       " '5ec40aa3-5174-46e5-9c11-e0de9c4285e1': <bitcoin.models.BTCBlock at 0x7f9b74f0bd30>,\n",
       " '[SELFISH]acf9ae1f-036c-4cde-9f23-dd33bc242991': <bitcoin.models.BTCBlock at 0x7f9b74f0bf28>,\n",
       " '[SELFISH]6738ff65-2419-43bc-8a38-939e05e955f0': <bitcoin.models.BTCBlock at 0x7f9b74f0bf98>,\n",
       " '[SELFISH]35ae7073-5fd7-4c51-9e74-742330f64397': <bitcoin.models.BTCBlock at 0x7f9b74ec7128>,\n",
       " '[SELFISH]385290e4-d167-4492-ae6d-1d1aac7d1fc9': <bitcoin.models.BTCBlock at 0x7f9b74ec7208>,\n",
       " '[SELFISH]38995792-e893-4511-94d8-644fa8658d1d': <bitcoin.models.BTCBlock at 0x7f9b74ec7278>,\n",
       " '[SELFISH]cc3fd1ae-0d2a-4538-b8b1-8c9637ac47e6': <bitcoin.models.BTCBlock at 0x7f9b74ec72e8>,\n",
       " '[SELFISH]d4830e39-82f2-4f0c-af5d-89e2b3ef9345': <bitcoin.models.BTCBlock at 0x7f9b74ec7358>,\n",
       " '[SELFISH]fb1c7de6-8a25-4e36-a430-1fbdda011af0': <bitcoin.models.BTCBlock at 0x7f9b74ec76d8>,\n",
       " '[SELFISH]de7114a3-f7e5-48d9-91ea-16437dec6cb0': <bitcoin.models.BTCBlock at 0x7f9b74ec79e8>,\n",
       " '[SELFISH]d77a7fdc-349b-432d-b04b-8e2082aee4bf': <bitcoin.models.BTCBlock at 0x7f9b74ec7c18>,\n",
       " '[SELFISH]ace9071a-969a-41a9-ab47-8072f49c7fff': <bitcoin.models.BTCBlock at 0x7f9b74e4b0b8>,\n",
       " '[SELFISH]cb6f1cf2-ead7-4cb2-b42d-6ff62cefc03f': <bitcoin.models.BTCBlock at 0x7f9b74e4b208>,\n",
       " '[SELFISH]3b2d0d90-6107-4f3e-9287-42df5c830aa7': <bitcoin.models.BTCBlock at 0x7f9b74e4b358>,\n",
       " '[SELFISH]73977b6e-4f60-4a51-8460-8ff16c0cd94e': <bitcoin.models.BTCBlock at 0x7f9b74e4b4a8>,\n",
       " '[SELFISH]9d81f109-f8ee-4630-b463-c33b18da12ca': <bitcoin.models.BTCBlock at 0x7f9b74e4b5f8>,\n",
       " '[SELFISH]258f6174-4001-4e48-b096-21229cd24b98': <bitcoin.models.BTCBlock at 0x7f9b74e4b748>,\n",
       " '[SELFISH]dac3be34-1fb9-4425-861d-f2211655fb1d': <bitcoin.models.BTCBlock at 0x7f9b74e4b908>,\n",
       " '[SELFISH]6c4ff5dd-b5b6-4c0f-bf6f-3650c31c2ba4': <bitcoin.models.BTCBlock at 0x7f9b74e4b9e8>,\n",
       " '[SELFISH]0db6785e-15e0-42a7-b607-be9650e5f8b6': <bitcoin.models.BTCBlock at 0x7f9b74e4bf28>,\n",
       " '[SELFISH]5aebdd92-05c3-4f4e-9297-07fb2b5d1bd5': <bitcoin.models.BTCBlock at 0x7f9b74dd1048>,\n",
       " '[SELFISH]7fd581da-bc88-4f01-a934-9732a78c0cfd': <bitcoin.models.BTCBlock at 0x7f9b74dd1208>,\n",
       " '[SELFISH]069d14ec-2226-4d2a-98f3-356ebdfac6aa': <bitcoin.models.BTCBlock at 0x7f9b74dd1588>,\n",
       " '[SELFISH]ca9b8b3e-29b9-4308-9981-f1a7efa6cf18': <bitcoin.models.BTCBlock at 0x7f9b74dd15f8>,\n",
       " '[SELFISH]bafaf7c9-bccc-4c9c-812c-0a06aeb25512': <bitcoin.models.BTCBlock at 0x7f9b74dd16d8>,\n",
       " '[SELFISH]88bd5566-f373-481c-ad67-ecc6309912ca': <bitcoin.models.BTCBlock at 0x7f9b74dd17b8>,\n",
       " '[SELFISH]f0c8a44d-cc95-4020-8ce5-fad3e547233d': <bitcoin.models.BTCBlock at 0x7f9b74dd1ac8>,\n",
       " '[SELFISH]48caa367-14f6-42c5-ace9-18da26569107': <bitcoin.models.BTCBlock at 0x7f9b74dd1b38>,\n",
       " '[SELFISH]3206fa6a-82f5-4d38-90ff-88b547e27ca6': <bitcoin.models.BTCBlock at 0x7f9b74dd1ba8>,\n",
       " '[SELFISH]182ebb61-116a-4656-bcec-d7f3feffca1a': <bitcoin.models.BTCBlock at 0x7f9b74dd1c18>,\n",
       " '[SELFISH]392a912d-0287-479c-9e38-80bbc4964445': <bitcoin.models.BTCBlock at 0x7f9b74dd1c88>,\n",
       " '[SELFISH]56681187-6024-4f7d-a832-0fc3759a64f1': <bitcoin.models.BTCBlock at 0x7f9b74dd1d68>,\n",
       " '[SELFISH]33da3369-ecc6-4665-a979-836771bfb11e': <bitcoin.models.BTCBlock at 0x7f9b74dd1dd8>,\n",
       " '[SELFISH]c74be7d0-25f5-491d-b78c-83410d214468': <bitcoin.models.BTCBlock at 0x7f9b74dd1f28>,\n",
       " '[SELFISH]94182768-b3ec-4899-8634-5c56cc5eff52': <bitcoin.models.BTCBlock at 0x7f9b74deb048>,\n",
       " '[SELFISH]8a8fe76d-cc6f-4568-ab55-1e62f850e2a1': <bitcoin.models.BTCBlock at 0x7f9b74deb358>,\n",
       " '[SELFISH]68a5c3aa-0854-44b8-85ea-51cb035f2c61': <bitcoin.models.BTCBlock at 0x7f9b74deb6d8>,\n",
       " '[SELFISH]ab5a8065-6d23-47f3-80c5-db9ff356c211': <bitcoin.models.BTCBlock at 0x7f9b74deb7b8>,\n",
       " '[SELFISH]29cf2e62-9262-487a-a7e2-88f4dd069568': <bitcoin.models.BTCBlock at 0x7f9b74deb898>,\n",
       " '[SELFISH]7e5b8045-132a-4295-a4f5-c069050d6595': <bitcoin.models.BTCBlock at 0x7f9b74deb908>,\n",
       " '[SELFISH]da7e2a2e-0a12-4801-8504-8f6d164a6fea': <bitcoin.models.BTCBlock at 0x7f9b74debac8>,\n",
       " '[SELFISH]a39ff3b2-c0d2-4040-8d8d-78b1f0f3765d': <bitcoin.models.BTCBlock at 0x7f9b74debba8>,\n",
       " '[SELFISH]dbd9fbfb-9a4a-4fa3-bb1d-c45abcee5a8c': <bitcoin.models.BTCBlock at 0x7f9b74debc18>,\n",
       " '[SELFISH]9cadb388-8f1e-4285-80a5-0b51e90aff6a': <bitcoin.models.BTCBlock at 0x7f9b74debeb8>,\n",
       " '[SELFISH]0df6a2f5-336e-4263-8e36-5351c846eca0': <bitcoin.models.BTCBlock at 0x7f9b74debf28>,\n",
       " '[SELFISH]bda833e0-633b-4ef4-99dd-a0bf395b96ed': <bitcoin.models.BTCBlock at 0x7f9b74e0d128>,\n",
       " '[SELFISH]893188dc-4faa-49a4-bbe8-72421d535854': <bitcoin.models.BTCBlock at 0x7f9b74e0d278>,\n",
       " '[SELFISH]5cdd64dd-4011-4c18-b0ac-769ce4924d3a': <bitcoin.models.BTCBlock at 0x7f9b74e0d3c8>,\n",
       " '[SELFISH]4c4ece42-82da-4b7b-b65e-b6ca0517564f': <bitcoin.models.BTCBlock at 0x7f9b74e0d438>,\n",
       " '[SELFISH]f93616cf-ae4f-4656-a80c-cee28d142fb2': <bitcoin.models.BTCBlock at 0x7f9b74e0d4a8>,\n",
       " '[SELFISH]20b0b577-843a-4552-9236-fdb5ff0eb722': <bitcoin.models.BTCBlock at 0x7f9b74e0d588>,\n",
       " '[SELFISH]5b7ab3af-1fa8-4842-9a67-f52a677c31fc': <bitcoin.models.BTCBlock at 0x7f9b74e0d668>,\n",
       " '[SELFISH]4d83c1f3-8454-4602-8006-57c09c3edeb2': <bitcoin.models.BTCBlock at 0x7f9b74e0d6d8>,\n",
       " '[SELFISH]29ac1334-e09f-4005-8573-8bdbd83616d7': <bitcoin.models.BTCBlock at 0x7f9b74e0d7b8>,\n",
       " '[SELFISH]9180b763-4963-431d-afca-b0759343d126': <bitcoin.models.BTCBlock at 0x7f9b74e0d828>,\n",
       " '[SELFISH]b401d858-f2a6-4747-a7f1-8ea8f09c34f7': <bitcoin.models.BTCBlock at 0x7f9b74e0d9e8>,\n",
       " '[SELFISH]55ff0a2f-d7ea-4788-9197-c2ee26af36b6': <bitcoin.models.BTCBlock at 0x7f9b74e0dac8>,\n",
       " '[SELFISH]df75c03c-035a-4bf2-95e2-4db6217f2c63': <bitcoin.models.BTCBlock at 0x7f9b74e0dc18>,\n",
       " '[SELFISH]df715c1e-5bb5-4b2f-8f53-c5cc33432ce2': <bitcoin.models.BTCBlock at 0x7f9b74e0deb8>,\n",
       " '[SELFISH]386dd6d3-a88e-4e32-9324-42f1ca28bafc': <bitcoin.models.BTCBlock at 0x7f9b74e39128>,\n",
       " '[SELFISH]a1966116-f2f3-4619-a551-734171bc74a8': <bitcoin.models.BTCBlock at 0x7f9b74e39208>,\n",
       " '[SELFISH]3ff4f169-a0c6-4997-b713-eca40ab55458': <bitcoin.models.BTCBlock at 0x7f9b74e39278>,\n",
       " '[SELFISH]ea167daf-d57f-4ac4-94c7-b54724d9c647': <bitcoin.models.BTCBlock at 0x7f9b74e392e8>,\n",
       " '[SELFISH]2657d91c-a00e-4683-ba06-1cc5b610bc30': <bitcoin.models.BTCBlock at 0x7f9b74e393c8>,\n",
       " '[SELFISH]8d576f6c-74c5-4a3e-bcd6-cebf3962de45': <bitcoin.models.BTCBlock at 0x7f9b74e39828>,\n",
       " '[SELFISH]fc0d8976-9563-4d91-9254-257276331a94': <bitcoin.models.BTCBlock at 0x7f9b74e39ac8>,\n",
       " '[SELFISH]0a0b0d6c-1e66-4683-942a-dfd9335b98f7': <bitcoin.models.BTCBlock at 0x7f9b74e39ba8>,\n",
       " '[SELFISH]3dc903da-382c-472a-86c9-edfa53fa1ba6': <bitcoin.models.BTCBlock at 0x7f9b74e39c18>,\n",
       " '[SELFISH]85826b3e-b26e-4161-ae90-c29cd4e7716e': <bitcoin.models.BTCBlock at 0x7f9b74e39cf8>,\n",
       " '[SELFISH]978f716c-ded4-45d2-9d69-8964148f1f16': <bitcoin.models.BTCBlock at 0x7f9b74e39d68>,\n",
       " '[SELFISH]b9d248e1-3ef1-490f-9c13-8455c88853f2': <bitcoin.models.BTCBlock at 0x7f9b74e39eb8>,\n",
       " '[SELFISH]9b05342d-d43c-40bd-935c-9a8c03d53ee6': <bitcoin.models.BTCBlock at 0x7f9b74e39f98>,\n",
       " '[SELFISH]f97d1bdc-9301-4a64-a6b0-8f25f3221e46': <bitcoin.models.BTCBlock at 0x7f9b74ea3048>,\n",
       " '[SELFISH]5a974095-c393-4c72-8573-a772128548fc': <bitcoin.models.BTCBlock at 0x7f9b74ea3208>,\n",
       " '[SELFISH]33ece62b-8f27-45e3-af0d-546982d592f3': <bitcoin.models.BTCBlock at 0x7f9b74ea3518>,\n",
       " '[SELFISH]c558baad-7637-495e-80b5-ee10193250a3': <bitcoin.models.BTCBlock at 0x7f9b74ea3588>,\n",
       " '[SELFISH]37cd393c-d98d-4fb3-b323-66eefe3ede7a': <bitcoin.models.BTCBlock at 0x7f9b74ea3748>,\n",
       " '[SELFISH]e2b9d175-5bd6-46e1-9e56-a52cc95a68db': <bitcoin.models.BTCBlock at 0x7f9b74ea3828>,\n",
       " '[SELFISH]aaae9d71-5b14-415b-a16b-aab5922b669c': <bitcoin.models.BTCBlock at 0x7f9b74ea3898>,\n",
       " '[SELFISH]63d0b684-5db9-4c8a-bbb5-67cdcf1a5809': <bitcoin.models.BTCBlock at 0x7f9b74ea3908>,\n",
       " '[SELFISH]3224d318-bb21-4cc0-ac65-6c549157f42a': <bitcoin.models.BTCBlock at 0x7f9b74ea3a58>,\n",
       " '[SELFISH]b191a83b-fcb4-43cb-88ed-250c345f8d17': <bitcoin.models.BTCBlock at 0x7f9b74ea3ac8>,\n",
       " '[SELFISH]5b0590e2-8266-4f9e-ab2a-a041174a4ab3': <bitcoin.models.BTCBlock at 0x7f9b74ea3ba8>,\n",
       " '[SELFISH]ac53ca8c-56dc-44ff-a4f7-50364f39eea0': <bitcoin.models.BTCBlock at 0x7f9b74ea3dd8>,\n",
       " '[SELFISH]e1c5d7b2-20ec-43da-ae30-826fdb6dc912': <bitcoin.models.BTCBlock at 0x7f9b74ea3f98>,\n",
       " '[SELFISH]409ebe64-2d6c-45b7-bcf3-fbd314b65d91': <bitcoin.models.BTCBlock at 0x7f9b74f14048>,\n",
       " '[SELFISH]1935edce-f9bb-459e-b1fb-500a008e161c': <bitcoin.models.BTCBlock at 0x7f9b74f14278>,\n",
       " '[SELFISH]2e0effcb-7477-4f9c-8dc7-662cedbbc224': <bitcoin.models.BTCBlock at 0x7f9b74f142e8>,\n",
       " '[SELFISH]d927b400-9a14-48c7-8654-b6c2f21151f1': <bitcoin.models.BTCBlock at 0x7f9b74f14438>,\n",
       " '[SELFISH]9517bfd4-2eb3-4734-8001-d82d4d25ea52': <bitcoin.models.BTCBlock at 0x7f9b74f14518>,\n",
       " '[SELFISH]552a3164-2617-4a67-90c6-88c7209d705f': <bitcoin.models.BTCBlock at 0x7f9b74f147b8>,\n",
       " '[SELFISH]16fbc871-e9d4-4686-a0ff-e9762819f3c1': <bitcoin.models.BTCBlock at 0x7f9b74f14898>,\n",
       " '[SELFISH]37a12b65-343d-4951-aa6c-e19cb99c3164': <bitcoin.models.BTCBlock at 0x7f9b74f14908>,\n",
       " '[SELFISH]f5310742-8076-494b-a5a3-1e6950099507': <bitcoin.models.BTCBlock at 0x7f9b74f149e8>,\n",
       " '[SELFISH]f42f9607-790a-4a80-a9f3-a5e765d42ea0': <bitcoin.models.BTCBlock at 0x7f9b74f14d68>,\n",
       " '[SELFISH]1f93d766-cfbc-4479-81d0-357c7f340f62': <bitcoin.models.BTCBlock at 0x7f9b74f190b8>,\n",
       " '[SELFISH]c20fe632-d0c5-4eff-b5e7-f4e6ebe83565': <bitcoin.models.BTCBlock at 0x7f9b74f19128>,\n",
       " '[SELFISH]ed30a90d-f56c-48cf-b645-52bd7aeb53c2': <bitcoin.models.BTCBlock at 0x7f9b74f192e8>,\n",
       " '[SELFISH]8c0069a8-ee1d-4d45-b61c-576a40b10cc0': <bitcoin.models.BTCBlock at 0x7f9b74f19358>,\n",
       " '[SELFISH]6167e497-5778-4a41-86f7-723c6b2ac5fe': <bitcoin.models.BTCBlock at 0x7f9b74f19518>,\n",
       " '[SELFISH]d722d25a-e4bb-4d38-b575-5ff895117857': <bitcoin.models.BTCBlock at 0x7f9b74f19588>,\n",
       " '[SELFISH]25c196a0-7ae4-4dfe-8fb1-a7f9f05b9cf6': <bitcoin.models.BTCBlock at 0x7f9b74f19668>,\n",
       " '[SELFISH]42a68ebd-4486-4e33-9fd5-b719a5f76b2b': <bitcoin.models.BTCBlock at 0x7f9b74f196d8>,\n",
       " '[SELFISH]6a394768-8942-49d0-95b9-3002da46d9b3': <bitcoin.models.BTCBlock at 0x7f9b74f19748>,\n",
       " '[SELFISH]5ef66d1e-e4fd-4f08-b24f-546c1590af87': <bitcoin.models.BTCBlock at 0x7f9b74f19828>,\n",
       " '[SELFISH]7245343f-b87b-4ebc-b7d5-e7dae7be1fa7': <bitcoin.models.BTCBlock at 0x7f9b74f19a58>,\n",
       " '[SELFISH]97ec2e15-4946-49de-b488-2b3239277753': <bitcoin.models.BTCBlock at 0x7f9b74f19ac8>,\n",
       " '[SELFISH]02988514-c7a1-41d8-bade-1d0ce2241fab': <bitcoin.models.BTCBlock at 0x7f9b74f19c18>,\n",
       " '[SELFISH]78fda2c5-2f27-415e-8837-efcb5d83ce42': <bitcoin.models.BTCBlock at 0x7f9b74f19dd8>,\n",
       " '[SELFISH]dbaaad35-aad6-4d0e-98f8-a6f0c12da394': <bitcoin.models.BTCBlock at 0x7f9b74f19f28>,\n",
       " '[SELFISH]957bc79b-615e-4c3a-8aaa-69e3e15169d9': <bitcoin.models.BTCBlock at 0x7f9b74f19f98>,\n",
       " '[SELFISH]df449e03-bd5f-4b02-b8ea-d0a46e84882a': <bitcoin.models.BTCBlock at 0x7f9b74f1f2e8>,\n",
       " '[SELFISH]2940e7ec-9248-4ad0-bfe9-ba87263e9459': <bitcoin.models.BTCBlock at 0x7f9b74f1f358>,\n",
       " '[SELFISH]28a0faa5-e72d-4d8c-928d-488832607087': <bitcoin.models.BTCBlock at 0x7f9b74f1f438>,\n",
       " '[SELFISH]60dffa47-c68c-4911-801d-76d6210247a6': <bitcoin.models.BTCBlock at 0x7f9b74f1f4a8>,\n",
       " '[SELFISH]84556eb6-2f5b-49ce-a02b-a7faee743208': <bitcoin.models.BTCBlock at 0x7f9b74f1f5f8>,\n",
       " '[SELFISH]cf4c3fc6-7a76-4b94-b08b-70fd4b1dd6f0': <bitcoin.models.BTCBlock at 0x7f9b74f1f748>,\n",
       " '[SELFISH]3c313007-4d6b-4131-83d0-7d19ff68f3eb': <bitcoin.models.BTCBlock at 0x7f9b74f1f828>,\n",
       " '[SELFISH]e3686783-fc72-4357-8208-12e74ff9f428': <bitcoin.models.BTCBlock at 0x7f9b74f1f908>,\n",
       " '[SELFISH]dd402563-3b09-40c3-88fb-7557c4a041a9': <bitcoin.models.BTCBlock at 0x7f9b74f1f978>,\n",
       " '[SELFISH]02d38b1d-6bd2-4591-a3be-f902970996eb': <bitcoin.models.BTCBlock at 0x7f9b74f1f9e8>,\n",
       " '[SELFISH]839a2cde-2c12-4a6f-8b06-7f5fb578094c': <bitcoin.models.BTCBlock at 0x7f9b74f1fac8>,\n",
       " '[SELFISH]f95f6be9-f11d-4c91-bfb3-e41029d7571d': <bitcoin.models.BTCBlock at 0x7f9b74f1fc18>,\n",
       " '[SELFISH]c0f8974c-b983-4fb4-916f-b7ac954364e5': <bitcoin.models.BTCBlock at 0x7f9b74f1fcf8>,\n",
       " '[SELFISH]7c340e44-af95-40f5-9ff5-93faf5f10ac8': <bitcoin.models.BTCBlock at 0x7f9b74f1fd68>,\n",
       " '[SELFISH]e0ce3a1f-f28d-46f3-a8fe-1c7c865ced22': <bitcoin.models.BTCBlock at 0x7f9b74f1fe48>,\n",
       " '[SELFISH]addc884f-5193-4afb-ac70-e5fd70e28664': <bitcoin.models.BTCBlock at 0x7f9b74f230b8>,\n",
       " '[SELFISH]729fd77d-6f23-4401-8962-595d279b9435': <bitcoin.models.BTCBlock at 0x7f9b74f23128>,\n",
       " '[SELFISH]dd6664bd-f5ab-4070-b747-76f578966cd6': <bitcoin.models.BTCBlock at 0x7f9b74f23198>,\n",
       " '[SELFISH]3efcfdd0-f4db-4816-a260-d19d0011fe32': <bitcoin.models.BTCBlock at 0x7f9b74f23278>,\n",
       " '[SELFISH]518f3f54-8c43-4679-8aa3-c4024962778c': <bitcoin.models.BTCBlock at 0x7f9b74f23358>,\n",
       " '[SELFISH]e97ec8d6-45ac-443b-97df-28e2a8ee1397': <bitcoin.models.BTCBlock at 0x7f9b74f23438>,\n",
       " '[SELFISH]d703932e-5ff2-4fed-af86-53d8f21c4f8a': <bitcoin.models.BTCBlock at 0x7f9b74f236d8>,\n",
       " '[SELFISH]3b8a6a93-4884-40b8-85e8-7dfbb92434ab': <bitcoin.models.BTCBlock at 0x7f9b74f23828>,\n",
       " '[SELFISH]f041632b-b0ef-4ece-86ca-1129892a5c4c': <bitcoin.models.BTCBlock at 0x7f9b74f23978>,\n",
       " '[SELFISH]1c31aba1-08c3-41cc-ab73-4521a34ca298': <bitcoin.models.BTCBlock at 0x7f9b74f239e8>,\n",
       " '[SELFISH]66a2a8b2-aa42-46e2-b1e5-342d57ac1208': <bitcoin.models.BTCBlock at 0x7f9b74f23ac8>,\n",
       " '[SELFISH]3c42980e-28c9-4c76-94cc-e4737838dfab': <bitcoin.models.BTCBlock at 0x7f9b74f23ba8>,\n",
       " '[SELFISH]615af5d9-e344-47bb-87ff-f38496307ca7': <bitcoin.models.BTCBlock at 0x7f9b74f23c18>,\n",
       " '[SELFISH]c83e9cc5-215a-44ad-81bd-f08048a11985': <bitcoin.models.BTCBlock at 0x7f9b74f23cf8>,\n",
       " '[SELFISH]12828d3a-0861-40cd-a683-6ff38122a66c': <bitcoin.models.BTCBlock at 0x7f9b74f23d68>,\n",
       " '[SELFISH]5f81e61c-49dd-471a-acae-95b4304590d6': <bitcoin.models.BTCBlock at 0x7f9b74f23dd8>,\n",
       " '[SELFISH]de904a2d-9c80-46ca-adb0-2f43b764d669': <bitcoin.models.BTCBlock at 0x7f9b74f23eb8>,\n",
       " '[SELFISH]75701f72-929b-4d09-9351-779c2e7e4f55': <bitcoin.models.BTCBlock at 0x7f9b74f23f28>,\n",
       " '[SELFISH]267918d1-5df2-4c48-880f-bfaeb1313329': <bitcoin.models.BTCBlock at 0x7f9b74f28048>,\n",
       " '[SELFISH]08d39b7b-66b3-41d3-8ce0-56994049803f': <bitcoin.models.BTCBlock at 0x7f9b74f280b8>,\n",
       " '[SELFISH]07dbd43c-84a0-49ea-b3cd-58cfcd71de63': <bitcoin.models.BTCBlock at 0x7f9b74f282e8>,\n",
       " '[SELFISH]a2dcab18-e0b3-4c0a-a430-1da2b93c025e': <bitcoin.models.BTCBlock at 0x7f9b74f28358>,\n",
       " '[SELFISH]e4af2170-5d9c-4a77-a04c-2283b92a2466': <bitcoin.models.BTCBlock at 0x7f9b74f28588>,\n",
       " '[SELFISH]350803b3-cacd-4472-8b66-ce8be37824e2': <bitcoin.models.BTCBlock at 0x7f9b74f285f8>,\n",
       " '[SELFISH]92798b59-de89-497b-9adf-a04abbfa91c6': <bitcoin.models.BTCBlock at 0x7f9b74f28748>,\n",
       " '[SELFISH]1531c4f9-a9e1-4b0b-b178-ca44be4b1a8c': <bitcoin.models.BTCBlock at 0x7f9b74f28b38>,\n",
       " '[SELFISH]d722c8ca-2019-4fbc-9573-4a4510ef7236': <bitcoin.models.BTCBlock at 0x7f9b74f28d68>,\n",
       " '[SELFISH]a537c1e3-b5a9-4ed9-a568-da5286cea3b4': <bitcoin.models.BTCBlock at 0x7f9b74f28dd8>,\n",
       " '[SELFISH]52022ea0-fda8-4f39-93ff-e13cd4f47f33': <bitcoin.models.BTCBlock at 0x7f9b74f28e48>,\n",
       " '[SELFISH]8a1b58f6-f6e8-49da-aa02-3f82fa1bc73b': <bitcoin.models.BTCBlock at 0x7f9b74f300b8>,\n",
       " '[SELFISH]d6686575-da71-4d02-bd7d-4590b0f745e9': <bitcoin.models.BTCBlock at 0x7f9b74f30278>,\n",
       " '[SELFISH]fe7c98e4-9ab7-4506-a50a-3af556854cab': <bitcoin.models.BTCBlock at 0x7f9b74f303c8>,\n",
       " '[SELFISH]40be2a6f-0a5f-4b4e-af64-48e9929bf541': <bitcoin.models.BTCBlock at 0x7f9b74f305f8>,\n",
       " '[SELFISH]4005c481-8404-4e28-b5a3-bff5a46ac0df': <bitcoin.models.BTCBlock at 0x7f9b74f306d8>,\n",
       " '[SELFISH]8c329e96-0f49-4f6c-bff4-18fea527803d': <bitcoin.models.BTCBlock at 0x7f9b74f30898>,\n",
       " '[SELFISH]efb15e3c-f771-4f8d-89d6-740a151eb98c': <bitcoin.models.BTCBlock at 0x7f9b74f30908>,\n",
       " '[SELFISH]baca4f97-47a2-4f58-a093-11c371f3dba1': <bitcoin.models.BTCBlock at 0x7f9b74f30a58>,\n",
       " '[SELFISH]e0f41ccb-9639-4493-9d0f-b22f94913c28': <bitcoin.models.BTCBlock at 0x7f9b74f30ac8>,\n",
       " '[SELFISH]f8b450c0-6ab1-483f-8bb5-f6cc7d353cf3': <bitcoin.models.BTCBlock at 0x7f9b74f30ba8>,\n",
       " '[SELFISH]5146f12d-309b-44f4-87fb-772df02b6f91': <bitcoin.models.BTCBlock at 0x7f9b74f30c18>,\n",
       " '[SELFISH]98d8e3df-3b6b-41d5-8973-d8c624adcf09': <bitcoin.models.BTCBlock at 0x7f9b74f30c88>,\n",
       " '[SELFISH]7b0e7951-5766-4d2f-866d-9fd079c76115': <bitcoin.models.BTCBlock at 0x7f9b74f30cf8>,\n",
       " '[SELFISH]8bd84948-9027-4cfd-b98c-0a97ad0a18b2': <bitcoin.models.BTCBlock at 0x7f9b74f30d68>,\n",
       " '[SELFISH]abe25503-393d-4f44-aa71-d953b43f3f6a': <bitcoin.models.BTCBlock at 0x7f9b74f30dd8>,\n",
       " '[SELFISH]0042fa8f-d2b7-4752-b258-756ca01b83bf': <bitcoin.models.BTCBlock at 0x7f9b74f30eb8>,\n",
       " '[SELFISH]05e36173-461d-4599-8806-415486c0a706': <bitcoin.models.BTCBlock at 0x7f9b74f30f28>,\n",
       " '[SELFISH]9271f632-5c46-49de-a7f9-d1b2a1c99107': <bitcoin.models.BTCBlock at 0x7f9b74f3d048>,\n",
       " '[SELFISH]e5baffe5-3754-4b29-9e0f-5d8d5f9e209c': <bitcoin.models.BTCBlock at 0x7f9b74f3d128>,\n",
       " '[SELFISH]89e287d3-84d1-4353-8eec-b34c74193609': <bitcoin.models.BTCBlock at 0x7f9b74f3d358>,\n",
       " '[SELFISH]cd758757-432c-4f9b-a364-5a16b417a9fe': <bitcoin.models.BTCBlock at 0x7f9b74f3d3c8>,\n",
       " '[SELFISH]49c65d29-3a4b-497f-97f8-deb949b43f95': <bitcoin.models.BTCBlock at 0x7f9b74f3d668>,\n",
       " '[SELFISH]d85c4a1a-4efc-4b9f-94b9-7fdd911e56da': <bitcoin.models.BTCBlock at 0x7f9b74f3d748>,\n",
       " '[SELFISH]b8623531-c305-4fcf-bbd8-abf6e73cff8b': <bitcoin.models.BTCBlock at 0x7f9b74f3d898>,\n",
       " '[SELFISH]d0810b13-60e6-4934-91b0-0f711ae2f433': <bitcoin.models.BTCBlock at 0x7f9b74f3d978>,\n",
       " '[SELFISH]c0e741dc-428b-49fb-bf11-1252668862c5': <bitcoin.models.BTCBlock at 0x7f9b74f3d9e8>,\n",
       " '[SELFISH]6b7d4903-4ab9-4558-a674-d9cd43a51f9a': <bitcoin.models.BTCBlock at 0x7f9b74f3dac8>,\n",
       " '[SELFISH]2371025d-0149-44eb-9ba6-d9cab95a9d2a': <bitcoin.models.BTCBlock at 0x7f9b74f3db38>,\n",
       " '[SELFISH]a1145b56-4b70-419e-8c10-aa814acf0198': <bitcoin.models.BTCBlock at 0x7f9b74f3dba8>,\n",
       " '[SELFISH]18b1e8c4-403d-4828-8ea3-c570b7468bfd': <bitcoin.models.BTCBlock at 0x7f9b74f3de48>,\n",
       " '[SELFISH]35ae6e20-c613-4e62-b9cb-9cb59807b991': <bitcoin.models.BTCBlock at 0x7f9b74f3df28>,\n",
       " '[SELFISH]9f14dda9-9dee-4319-8fa5-d7bb382112ad': <bitcoin.models.BTCBlock at 0x7f9b74f49048>,\n",
       " '[SELFISH]623e8290-2e8c-439d-8e57-e7564e004b51': <bitcoin.models.BTCBlock at 0x7f9b74f492e8>,\n",
       " '[SELFISH]40f32952-9f47-4ba9-a983-db467a3a9a5c': <bitcoin.models.BTCBlock at 0x7f9b74f493c8>,\n",
       " '[SELFISH]7012eba8-ce39-4cc9-8238-21f051dbfeef': <bitcoin.models.BTCBlock at 0x7f9b74f49438>,\n",
       " '[SELFISH]3ff1e57d-9d74-4682-a40d-a64c00caeef7': <bitcoin.models.BTCBlock at 0x7f9b74f494a8>,\n",
       " '[SELFISH]21f997df-2562-4c3e-8ac2-e8823d48fed0': <bitcoin.models.BTCBlock at 0x7f9b74f49748>,\n",
       " '[SELFISH]2a322fab-08c4-42f4-9839-df9db065db61': <bitcoin.models.BTCBlock at 0x7f9b74f497b8>,\n",
       " '[SELFISH]0b56ba6b-7bfa-4cad-aa65-226861f74edb': <bitcoin.models.BTCBlock at 0x7f9b74f49828>,\n",
       " '[SELFISH]c6aee33e-aac3-42a8-921a-7479bdeae54d': <bitcoin.models.BTCBlock at 0x7f9b74f49898>,\n",
       " '[SELFISH]071e7694-f7ae-4da6-bb26-3aa51d553dcd': <bitcoin.models.BTCBlock at 0x7f9b74f49b38>,\n",
       " '[SELFISH]bb7d62fd-c3a2-47d7-91a9-fdd3255391d0': <bitcoin.models.BTCBlock at 0x7f9b74f49cf8>,\n",
       " '[SELFISH]a103daeb-277f-4de5-ad88-81c1bd92bc8f': <bitcoin.models.BTCBlock at 0x7f9b74f49d68>,\n",
       " '[SELFISH]34b0a344-485f-4444-b091-928c1d4a9410': <bitcoin.models.BTCBlock at 0x7f9b74f49eb8>,\n",
       " '[SELFISH]151a2a36-f323-4c16-94e7-2db958bf551f': <bitcoin.models.BTCBlock at 0x7f9b74f49f28>,\n",
       " '[SELFISH]88e6c2e4-b1a8-42b7-8edd-363c27364bc7': <bitcoin.models.BTCBlock at 0x7f9b74f49f98>,\n",
       " '[SELFISH]9c06cc5d-425e-47b1-beba-59235e18c8ad': <bitcoin.models.BTCBlock at 0x7f9b74f59048>,\n",
       " '[SELFISH]66ab392b-8827-49a6-9cbf-08060a2a2c72': <bitcoin.models.BTCBlock at 0x7f9b74f59128>,\n",
       " '[SELFISH]a4e555fe-4ba4-4b50-b5df-3a370a4e3812': <bitcoin.models.BTCBlock at 0x7f9b74f592e8>,\n",
       " '[SELFISH]673329aa-7c9f-4865-86ea-ea06a6c8bb70': <bitcoin.models.BTCBlock at 0x7f9b74f59358>,\n",
       " '[SELFISH]c13fc14c-0f5b-4aff-bc37-1de7ab023231': <bitcoin.models.BTCBlock at 0x7f9b74f593c8>,\n",
       " '[SELFISH]c081e727-cb72-441e-8216-6bdd7fb0178b': <bitcoin.models.BTCBlock at 0x7f9b74f59438>,\n",
       " '[SELFISH]6f015d69-e3d2-4e2b-9d92-9e13c9d00572': <bitcoin.models.BTCBlock at 0x7f9b74f594a8>,\n",
       " '[SELFISH]e4141fba-9a28-41e1-9aad-eccc3864b77b': <bitcoin.models.BTCBlock at 0x7f9b74f59668>,\n",
       " '[SELFISH]16f84f25-5bab-4f87-a985-72381c2db660': <bitcoin.models.BTCBlock at 0x7f9b74f596d8>,\n",
       " '[SELFISH]37cfc75a-e767-42dc-8a4e-78ea16a72529': <bitcoin.models.BTCBlock at 0x7f9b74f597b8>,\n",
       " '[SELFISH]d3402f82-3a26-47ad-85e3-75a277b850d2': <bitcoin.models.BTCBlock at 0x7f9b74f59828>,\n",
       " '[SELFISH]01d1c685-84ca-4727-9780-c41400e4b9c5': <bitcoin.models.BTCBlock at 0x7f9b74f59978>,\n",
       " '[SELFISH]d2477bdb-e736-436c-9590-7087bb49d439': <bitcoin.models.BTCBlock at 0x7f9b74f599e8>,\n",
       " '[SELFISH]18c7eae5-42ec-48a2-aba6-7ad481fbf441': <bitcoin.models.BTCBlock at 0x7f9b74f59a58>,\n",
       " '[SELFISH]f416c799-c3ca-4cda-9ed7-c7c303a9abaa': <bitcoin.models.BTCBlock at 0x7f9b74f59c18>,\n",
       " '[SELFISH]b8860818-8fae-4137-bc3b-d8b948d0d937': <bitcoin.models.BTCBlock at 0x7f9b74f59c88>,\n",
       " '[SELFISH]5dcc1fe7-cbc9-4216-a103-c37713e1d7cf': <bitcoin.models.BTCBlock at 0x7f9b74f59e48>,\n",
       " '[SELFISH]d81d08a2-b0f0-4544-bcce-397db5805607': <bitcoin.models.BTCBlock at 0x7f9b74f59f28>,\n",
       " '[SELFISH]5f4b65dc-95e3-4a04-b1d4-8ee115e6d113': <bitcoin.models.BTCBlock at 0x7f9b74f63358>,\n",
       " '[SELFISH]5508999c-c349-4162-b4b6-1085ce33cb9f': <bitcoin.models.BTCBlock at 0x7f9b74f633c8>,\n",
       " '[SELFISH]c25b90f5-39a3-4585-8efe-6d26b66188ab': <bitcoin.models.BTCBlock at 0x7f9b74f63438>,\n",
       " '[SELFISH]a3d21f7d-b19d-4524-8da4-fa47ac252d51': <bitcoin.models.BTCBlock at 0x7f9b74f63588>,\n",
       " '[SELFISH]b8b6e28a-c9ce-4faa-945f-4f29957f6632': <bitcoin.models.BTCBlock at 0x7f9b74f635f8>,\n",
       " '[SELFISH]fd156a14-54ea-4f8b-b811-4e721f32ab5c': <bitcoin.models.BTCBlock at 0x7f9b74f63668>,\n",
       " '[SELFISH]e2905499-c7f8-41a0-a6e8-abdab9234a97': <bitcoin.models.BTCBlock at 0x7f9b74f636d8>,\n",
       " '[SELFISH]bc5a47da-2512-4f19-b91b-8d1f0b7de1e7': <bitcoin.models.BTCBlock at 0x7f9b74f63748>,\n",
       " '[SELFISH]3ee6a306-a431-4f73-8287-7a2c27199c98': <bitcoin.models.BTCBlock at 0x7f9b74f637b8>,\n",
       " '[SELFISH]22eec875-da32-4bd0-831c-605d02cf1bb6': <bitcoin.models.BTCBlock at 0x7f9b74f63978>,\n",
       " '[SELFISH]f17a6583-39a7-41a1-a7b8-f642b35be2f2': <bitcoin.models.BTCBlock at 0x7f9b74f63a58>,\n",
       " '[SELFISH]c6ee0de6-640d-4f5f-b9a5-50111677f21f': <bitcoin.models.BTCBlock at 0x7f9b74f63ac8>,\n",
       " '[SELFISH]80c5b7e0-6971-489e-9471-d28c5f40268f': <bitcoin.models.BTCBlock at 0x7f9b74f63b38>,\n",
       " '[SELFISH]4e0bdde2-5a85-48c7-8a83-2a2498c3919c': <bitcoin.models.BTCBlock at 0x7f9b74f63ba8>,\n",
       " '[SELFISH]71a6b499-72da-4ad8-a91e-a1eecea198b4': <bitcoin.models.BTCBlock at 0x7f9b74f63c18>,\n",
       " '[SELFISH]dfb436c3-6b3e-4536-b6b9-bc6193002af6': <bitcoin.models.BTCBlock at 0x7f9b74f63c88>,\n",
       " '[SELFISH]cafa910b-fa09-4247-990b-c795a4185b8b': <bitcoin.models.BTCBlock at 0x7f9b74f63cf8>,\n",
       " '[SELFISH]9dfb2d91-6714-46d9-a29d-097de8582ace': <bitcoin.models.BTCBlock at 0x7f9b74f63e48>,\n",
       " '[SELFISH]17ba993b-a23c-4b9e-9c2d-b069bc5bf7c9': <bitcoin.models.BTCBlock at 0x7f9b74f63eb8>,\n",
       " '[SELFISH]c32a57e6-f600-4862-b196-abe5109601ef': <bitcoin.models.BTCBlock at 0x7f9b74f74198>,\n",
       " '[SELFISH]e398b351-24d8-4688-b346-996895c7cd93': <bitcoin.models.BTCBlock at 0x7f9b74f74208>,\n",
       " '[SELFISH]253eb785-a3e1-4bd1-84f0-a1954351f4ef': <bitcoin.models.BTCBlock at 0x7f9b74f74278>,\n",
       " '[SELFISH]2145e0ed-9977-49b0-bdb5-6b6aa405e08d': <bitcoin.models.BTCBlock at 0x7f9b74f74438>,\n",
       " '[SELFISH]18ec4e7e-b2b5-4ce3-9ba5-594205f58c11': <bitcoin.models.BTCBlock at 0x7f9b74f74518>,\n",
       " '[SELFISH]6b0682ec-cb9f-490c-a7ea-35edeb32adcd': <bitcoin.models.BTCBlock at 0x7f9b74f74588>,\n",
       " '[SELFISH]38086ec3-80c5-48a8-91e4-d28650b983f6': <bitcoin.models.BTCBlock at 0x7f9b74f746d8>,\n",
       " '[SELFISH]8a5ea0f8-46ad-458c-898a-e38bd3a73a01': <bitcoin.models.BTCBlock at 0x7f9b74f747b8>,\n",
       " '[SELFISH]9352872a-759d-41d6-945a-8f0d035539b4': <bitcoin.models.BTCBlock at 0x7f9b74f74978>,\n",
       " '[SELFISH]b0dae7fe-c8dd-4a3c-b060-5a823edd3760': <bitcoin.models.BTCBlock at 0x7f9b74f749e8>,\n",
       " '[SELFISH]ca88c7bc-0d01-4302-863a-55df96634bfb': <bitcoin.models.BTCBlock at 0x7f9b74f74ac8>,\n",
       " '[SELFISH]8f574624-87c3-4f59-9c92-7ac946243a7a': <bitcoin.models.BTCBlock at 0x7f9b74f74ba8>,\n",
       " '[SELFISH]b8ba489a-d0d8-44ae-a83f-a4360b5925a7': <bitcoin.models.BTCBlock at 0x7f9b74f74c18>,\n",
       " '[SELFISH]31ab8d55-f247-41f8-b962-a64f6653acf9': <bitcoin.models.BTCBlock at 0x7f9b74f74d68>,\n",
       " '[SELFISH]061abac3-6c11-4f8e-9e01-7e4c1b4c9ed1': <bitcoin.models.BTCBlock at 0x7f9b74f7f048>,\n",
       " '[SELFISH]d01c66f4-5961-4fe6-b503-204dd4947f8d': <bitcoin.models.BTCBlock at 0x7f9b74f7f198>,\n",
       " '[SELFISH]7767745f-4232-4cb3-aa47-e848916ac6fd': <bitcoin.models.BTCBlock at 0x7f9b74f7f3c8>,\n",
       " '[SELFISH]44f682ff-47e6-4adb-b236-f5dd23d2f394': <bitcoin.models.BTCBlock at 0x7f9b74f7f7b8>,\n",
       " '[SELFISH]8ca814ee-ce1a-4521-a16e-742541c49b85': <bitcoin.models.BTCBlock at 0x7f9b74f7f9e8>,\n",
       " '[SELFISH]db801019-d55c-4fb5-9a94-2b75d7a13866': <bitcoin.models.BTCBlock at 0x7f9b74f7fac8>,\n",
       " '[SELFISH]f801aeed-5374-45ae-8e5f-3f7cecc1a997': <bitcoin.models.BTCBlock at 0x7f9b74f7fc88>,\n",
       " '[SELFISH]de03e2ba-e2b2-4054-ba18-f90d263c9214': <bitcoin.models.BTCBlock at 0x7f9b74f7fd68>,\n",
       " '[SELFISH]d4c46518-d19b-49a0-b72d-96211f830218': <bitcoin.models.BTCBlock at 0x7f9b74f7fdd8>,\n",
       " '[SELFISH]5f669dce-495f-4f06-a00b-7d083dd22b78': <bitcoin.models.BTCBlock at 0x7f9b74f7feb8>,\n",
       " '[SELFISH]19483380-a22c-4478-973c-9ce5d5f0dc19': <bitcoin.models.BTCBlock at 0x7f9b74f7ff98>,\n",
       " '[SELFISH]e934bec9-6b0f-4d1f-bd44-98229c908776': <bitcoin.models.BTCBlock at 0x7f9b74f8d128>,\n",
       " '[SELFISH]8300664e-cc59-4e5b-8072-35b6fecccfd2': <bitcoin.models.BTCBlock at 0x7f9b74f8d198>,\n",
       " '[SELFISH]43bb00ad-e7ee-4620-8c39-74ed69b9a997': <bitcoin.models.BTCBlock at 0x7f9b74f8d2e8>,\n",
       " '[SELFISH]212d1e33-7933-4a0d-96e4-c077af20bea0': <bitcoin.models.BTCBlock at 0x7f9b74f8d3c8>,\n",
       " '[SELFISH]55b1d241-0a96-42a6-abfb-89429713c8f2': <bitcoin.models.BTCBlock at 0x7f9b74f8d4a8>,\n",
       " '[SELFISH]09ec7637-3007-405b-832f-332adec422c4': <bitcoin.models.BTCBlock at 0x7f9b74f8d5f8>,\n",
       " '[SELFISH]ed5fb6ca-f9ad-4f7b-b9c6-e122d5d76c6b': <bitcoin.models.BTCBlock at 0x7f9b74f8d668>,\n",
       " '[SELFISH]398d6160-8228-4a5f-b07d-20361db3d690': <bitcoin.models.BTCBlock at 0x7f9b74f8d6d8>,\n",
       " '[SELFISH]8173d7b8-8adc-4b52-b491-3365e6738ab3': <bitcoin.models.BTCBlock at 0x7f9b74f8d7b8>,\n",
       " '[SELFISH]547f8e40-a919-4f73-9acc-5b4169a152c8': <bitcoin.models.BTCBlock at 0x7f9b74f8d828>,\n",
       " '[SELFISH]ef8240b4-8dd2-4685-97e5-b9ae37779fd5': <bitcoin.models.BTCBlock at 0x7f9b74f8d898>,\n",
       " '[SELFISH]2a94cf62-0f1c-4f71-a86d-572a91e335c7': <bitcoin.models.BTCBlock at 0x7f9b74f8d9e8>,\n",
       " '[SELFISH]c1837053-b5ba-4f40-b66c-0ea38a14f600': <bitcoin.models.BTCBlock at 0x7f9b74f8dba8>,\n",
       " '[SELFISH]a357e57f-07ff-4894-88f4-2cb22aa70a67': <bitcoin.models.BTCBlock at 0x7f9b74f8dc18>,\n",
       " '[SELFISH]65c59ffa-083e-4b99-8596-9416adeb6b0a': <bitcoin.models.BTCBlock at 0x7f9b74f8dc88>,\n",
       " '[SELFISH]3ce90414-a340-4b22-af3e-259bd207d59d': <bitcoin.models.BTCBlock at 0x7f9b74f8dd68>,\n",
       " '[SELFISH]6755e520-0c7e-4c00-9b06-2cc45832e6a5': <bitcoin.models.BTCBlock at 0x7f9b74f8de48>,\n",
       " '[SELFISH]baff0276-5501-4f02-b14b-87ef95db0465': <bitcoin.models.BTCBlock at 0x7f9b74f8df98>,\n",
       " '[SELFISH]b2c136e3-9b3c-47be-8c99-6e3339b838b2': <bitcoin.models.BTCBlock at 0x7f9b74f9b048>,\n",
       " '[SELFISH]34792b97-2a6a-4038-8f9a-b17afca2d8bf': <bitcoin.models.BTCBlock at 0x7f9b74f9b198>,\n",
       " '[SELFISH]8e6b4df5-9348-4c8e-95c9-abb66ca91e5b': <bitcoin.models.BTCBlock at 0x7f9b74f9b208>,\n",
       " '[SELFISH]6694c07a-d111-491f-b29c-36b355917d49': <bitcoin.models.BTCBlock at 0x7f9b74f9b438>,\n",
       " '[SELFISH]90f32106-21a6-42d2-96ec-6aa4cc110fdf': <bitcoin.models.BTCBlock at 0x7f9b74f9b4a8>,\n",
       " '[SELFISH]63f25623-c7e2-419e-a9f9-f248c6b3e8cb': <bitcoin.models.BTCBlock at 0x7f9b74f9b518>,\n",
       " '[SELFISH]82351b63-7c2b-44a5-8790-a2e52842af57': <bitcoin.models.BTCBlock at 0x7f9b74f9b588>,\n",
       " '[SELFISH]b42bc2cc-9f80-4a47-a4d8-419394f1fe8a': <bitcoin.models.BTCBlock at 0x7f9b74f9b5f8>,\n",
       " '[SELFISH]3b21ae61-dcf4-46f2-8974-4b41505009a3': <bitcoin.models.BTCBlock at 0x7f9b74f9b668>,\n",
       " '[SELFISH]4ef89434-b406-49ca-a6b8-3a10dbc760d9': <bitcoin.models.BTCBlock at 0x7f9b74f9b748>,\n",
       " '[SELFISH]f44ce6e5-94d0-4874-9346-8aef01a01620': <bitcoin.models.BTCBlock at 0x7f9b74f9bac8>,\n",
       " '[SELFISH]2044524f-eb5f-4fb3-9642-a11a83349489': <bitcoin.models.BTCBlock at 0x7f9b74f9bb38>,\n",
       " '[SELFISH]2c2fefb6-6d5e-40ff-b08c-61e9a0c96917': <bitcoin.models.BTCBlock at 0x7f9b74f9bba8>,\n",
       " '[SELFISH]aa80a11c-e981-4eac-85f3-63d43fbe2697': <bitcoin.models.BTCBlock at 0x7f9b74f9bd68>,\n",
       " '[SELFISH]71b53316-8c42-47cd-8a7b-cd9459e4a467': <bitcoin.models.BTCBlock at 0x7f9b74f9bdd8>,\n",
       " '[SELFISH]ea8dcb77-bf91-4c8b-808d-75f46f65890d': <bitcoin.models.BTCBlock at 0x7f9b74f9be48>,\n",
       " '[SELFISH]87042695-8dfe-49c3-9941-10d1b4ae8560': <bitcoin.models.BTCBlock at 0x7f9b74f9beb8>,\n",
       " '[SELFISH]545adcaa-c347-4817-99ef-6c33fdea8427': <bitcoin.models.BTCBlock at 0x7f9b74f9bf98>,\n",
       " '[SELFISH]10e80fec-a203-4b13-a93b-22fbb7b1b2c6': <bitcoin.models.BTCBlock at 0x7f9b74fa7048>,\n",
       " '[SELFISH]609487bf-3a2a-4767-b9c7-8ffc41d8efb7': <bitcoin.models.BTCBlock at 0x7f9b74fa70b8>,\n",
       " '[SELFISH]9a83ca66-c4eb-49dc-80a0-646c91f21714': <bitcoin.models.BTCBlock at 0x7f9b74fa7128>,\n",
       " '[SELFISH]d5569896-54b5-47d4-9940-6848c45827ba': <bitcoin.models.BTCBlock at 0x7f9b74fa7278>,\n",
       " '[SELFISH]aed59f25-7c2a-47e3-bbb7-fe1600594502': <bitcoin.models.BTCBlock at 0x7f9b74fa7518>,\n",
       " '[SELFISH]9e4fd755-85f1-4643-9154-d3149700b0ca': <bitcoin.models.BTCBlock at 0x7f9b74fa75f8>,\n",
       " '[SELFISH]0e712dc3-9933-444f-a587-b6aea5b94d8a': <bitcoin.models.BTCBlock at 0x7f9b74fa7668>,\n",
       " '[SELFISH]b88bacc0-d6ca-49b7-bb65-d35ea9f50a91': <bitcoin.models.BTCBlock at 0x7f9b74fa7ac8>,\n",
       " '[SELFISH]ee413721-b737-4f64-ba84-79db2e7c5246': <bitcoin.models.BTCBlock at 0x7f9b74fa7c18>,\n",
       " '[SELFISH]ee849eca-8ab5-42a8-83e4-cb6c201d07fa': <bitcoin.models.BTCBlock at 0x7f9b74fa7cf8>,\n",
       " '[SELFISH]a52ba2cf-1a42-4c43-8c2c-ca5ef762b6ba': <bitcoin.models.BTCBlock at 0x7f9b74fa7dd8>,\n",
       " '[SELFISH]b89af043-6b2b-478c-9156-8d7bec92a5d5': <bitcoin.models.BTCBlock at 0x7f9b74fa7eb8>,\n",
       " '[SELFISH]3b6c37cd-a60f-4a32-9dcb-d6c0f589b4d8': <bitcoin.models.BTCBlock at 0x7f9b74fb6198>,\n",
       " '[SELFISH]8c41f1d7-937c-496e-b9bc-f69c9d0fe928': <bitcoin.models.BTCBlock at 0x7f9b74fb6208>,\n",
       " '[SELFISH]72b6aec3-3785-4c14-a138-4a424038d031': <bitcoin.models.BTCBlock at 0x7f9b74fb63c8>,\n",
       " '[SELFISH]a8c9afd7-726a-4548-987b-0a45e9d1a917': <bitcoin.models.BTCBlock at 0x7f9b74fb6438>,\n",
       " '[SELFISH]064d4a37-c349-450a-9a49-43da4c4fe255': <bitcoin.models.BTCBlock at 0x7f9b74fb64a8>,\n",
       " '[SELFISH]598d7018-b583-4a44-b300-871e80a68c5a': <bitcoin.models.BTCBlock at 0x7f9b74fb6518>,\n",
       " '[SELFISH]3e97b6d0-1f39-454d-97e8-d270f3ee4c7e': <bitcoin.models.BTCBlock at 0x7f9b74fb6588>,\n",
       " '[SELFISH]46c9b626-12b8-4587-8916-6dec8f79af4c': <bitcoin.models.BTCBlock at 0x7f9b74fb6668>,\n",
       " '[SELFISH]13a91037-32b1-4b36-b905-326a6dd8705b': <bitcoin.models.BTCBlock at 0x7f9b74fb66d8>,\n",
       " '[SELFISH]22f324f0-d31a-47ec-8684-ade6230a0358': <bitcoin.models.BTCBlock at 0x7f9b74fb67b8>,\n",
       " '[SELFISH]1644c545-3181-4f97-8ed9-6b26eb7e7624': <bitcoin.models.BTCBlock at 0x7f9b74fb6898>,\n",
       " '[SELFISH]7736b785-1aa4-4d25-b387-63b93b2f01b4': <bitcoin.models.BTCBlock at 0x7f9b74fb69e8>,\n",
       " '[SELFISH]37fce432-594e-4f96-b31e-64f131a3f3b6': <bitcoin.models.BTCBlock at 0x7f9b74fb6a58>,\n",
       " '[SELFISH]12c03256-a306-4468-be4d-bc82fe59c294': <bitcoin.models.BTCBlock at 0x7f9b74fb6ac8>,\n",
       " '[SELFISH]6db7c6e5-a620-4115-9dfc-249081080a22': <bitcoin.models.BTCBlock at 0x7f9b74fb6b38>,\n",
       " '[SELFISH]b244b228-3da2-4fec-85fe-218c82ac8ed2': <bitcoin.models.BTCBlock at 0x7f9b74fb6cf8>,\n",
       " '[SELFISH]c9c8fb1a-9115-4f9a-8d5d-9d61b3828ff8': <bitcoin.models.BTCBlock at 0x7f9b74fb6dd8>,\n",
       " '[SELFISH]b74cf5fe-0b7c-4dfb-8c41-1ef7b92836d7': <bitcoin.models.BTCBlock at 0x7f9b74fb6f28>,\n",
       " '[SELFISH]6e9dd0b0-3095-406f-9a3b-c936c0b8a52b': <bitcoin.models.BTCBlock at 0x7f9b74fc2128>,\n",
       " '[SELFISH]4463c187-924b-44e6-8381-1fcd38ce5522': <bitcoin.models.BTCBlock at 0x7f9b74fc23c8>,\n",
       " '[SELFISH]19187095-5fa8-4106-adbf-e410962876d7': <bitcoin.models.BTCBlock at 0x7f9b74fc2518>,\n",
       " '[SELFISH]47bef632-a9ab-45f1-9236-b2dc0cdd4dc1': <bitcoin.models.BTCBlock at 0x7f9b74fc25f8>,\n",
       " '[SELFISH]98ffe4da-12f8-43c4-a86b-8c38a357be6d': <bitcoin.models.BTCBlock at 0x7f9b74fc26d8>,\n",
       " '[SELFISH]de0aae26-7e5c-4014-8e4f-9736c5cfca60': <bitcoin.models.BTCBlock at 0x7f9b74fc27b8>,\n",
       " '[SELFISH]7bde9e4d-e209-4830-a4bd-b9cb1d9cb7cb': <bitcoin.models.BTCBlock at 0x7f9b74fc2828>,\n",
       " '[SELFISH]ac619a03-41c6-4821-af2b-112f4daa030f': <bitcoin.models.BTCBlock at 0x7f9b74fc2a58>,\n",
       " '[SELFISH]a5be3e9d-77e3-4aed-920e-a29e781bdee3': <bitcoin.models.BTCBlock at 0x7f9b74fc2ac8>}"
      ]
     },
     "metadata": {},
     "execution_count": 10
    }
   ],
   "metadata": {}
  },
  {
   "cell_type": "code",
   "execution_count": 11,
   "source": [
    "honest = 0\n",
    "selfish = 0\n",
    "for block in main_chain:\n",
    "    if 'HONEST' in block.miner:\n",
    "        honest += 1\n",
    "    elif 'SELFISH' in block.miner:\n",
    "        selfish += 1\n",
    "print(f'HONEST: {honest}')\n",
    "print(f'SELFISH: {selfish}')\n"
   ],
   "outputs": [
    {
     "output_type": "stream",
     "name": "stdout",
     "text": [
      "HONEST: 516\n",
      "SELFISH: 7\n"
     ]
    }
   ],
   "metadata": {}
  },
  {
   "cell_type": "code",
   "execution_count": 4,
   "source": [],
   "outputs": [
    {
     "output_type": "execute_result",
     "data": {
      "text/plain": [
       "{'HONEST': 700, 'SELFISH': 800}"
      ]
     },
     "metadata": {},
     "execution_count": 4
    }
   ],
   "metadata": {}
  },
  {
   "cell_type": "code",
   "execution_count": 19,
   "source": [
    "rewards = an.reward_distribution()\n",
    "\n",
    "fig1, ax1 = plt.subplots()\n",
    "ax1.pie([honest[0].mine_power, selfish[0].mine_power], labels=['HONEST', 'SELFISH'], startangle=90)\n",
    "ax1.axis('equal')\n",
    "plt.title('Miner Power')\n",
    "plt.show()\n",
    "\n",
    "fig1, ax1 = plt.subplots()\n",
    "ax1.pie(rewards.values(), labels=rewards.keys(), startangle=90)\n",
    "ax1.axis('equal') \n",
    "plt.title('Miner Reward')\n",
    "plt.show()"
   ],
   "outputs": [
    {
     "output_type": "display_data",
     "data": {
      "text/plain": [
       "<Figure size 432x288 with 1 Axes>"
      ],
      "image/svg+xml": "<?xml version=\"1.0\" encoding=\"utf-8\" standalone=\"no\"?>\n<!DOCTYPE svg PUBLIC \"-//W3C//DTD SVG 1.1//EN\"\n  \"http://www.w3.org/Graphics/SVG/1.1/DTD/svg11.dtd\">\n<svg height=\"246.958125pt\" version=\"1.1\" viewBox=\"0 0 349.2 246.958125\" width=\"349.2pt\" xmlns=\"http://www.w3.org/2000/svg\" xmlns:xlink=\"http://www.w3.org/1999/xlink\">\n <metadata>\n  <rdf:RDF xmlns:cc=\"http://creativecommons.org/ns#\" xmlns:dc=\"http://purl.org/dc/elements/1.1/\" xmlns:rdf=\"http://www.w3.org/1999/02/22-rdf-syntax-ns#\">\n   <cc:Work>\n    <dc:type rdf:resource=\"http://purl.org/dc/dcmitype/StillImage\"/>\n    <dc:date>2021-08-12T10:16:38.371324</dc:date>\n    <dc:format>image/svg+xml</dc:format>\n    <dc:creator>\n     <cc:Agent>\n      <dc:title>Matplotlib v3.4.2, https://matplotlib.org/</dc:title>\n     </cc:Agent>\n    </dc:creator>\n   </cc:Work>\n  </rdf:RDF>\n </metadata>\n <defs>\n  <style type=\"text/css\">*{stroke-linecap:butt;stroke-linejoin:round;}</style>\n </defs>\n <g id=\"figure_1\">\n  <g id=\"patch_1\">\n   <path d=\"M 0 246.958125 \nL 349.2 246.958125 \nL 349.2 0 \nL 0 0 \nz\n\" style=\"fill:none;\"/>\n  </g>\n  <g id=\"axes_1\">\n   <g id=\"patch_2\">\n    <path d=\"M 174.6 32.201763 \nC 164.228645 32.201763 153.921628 33.834234 144.057884 37.039159 \nC 134.194139 40.244084 124.896045 44.9817 116.505443 51.077829 \nC 108.11484 57.173959 100.735831 64.552968 94.639702 72.943571 \nC 88.543573 81.334173 83.805957 90.632267 80.601033 100.496012 \nC 77.396108 110.359757 75.763637 120.666773 75.763637 131.038128 \nC 75.763638 141.409483 77.396109 151.716499 80.601034 161.580244 \nC 83.805959 171.443989 88.543575 180.742082 94.639705 189.132685 \nC 100.735835 197.523287 108.114844 204.902296 116.505447 210.998425 \nC 124.896049 217.094554 134.194143 221.832169 144.057888 225.037094 \nC 153.921633 228.242018 164.22865 229.874489 174.600004 229.874488 \nC 184.971359 229.874488 195.278376 228.242016 205.14212 225.037091 \nC 215.005865 221.832165 224.303958 217.094549 232.69456 210.998419 \nC 241.085162 204.902289 248.464171 197.52328 254.5603 189.132677 \nC 260.656429 180.742074 265.394044 171.44398 268.598968 161.580235 \nC 271.803893 151.71649 273.436363 141.409474 273.436362 131.038119 \nC 273.436361 120.666764 271.80389 110.359747 268.598964 100.496003 \nL 174.6 131.038126 \nL 174.6 32.201763 \nz\n\" style=\"fill:#1f77b4;\"/>\n   </g>\n   <g id=\"patch_3\">\n    <path d=\"M 268.598964 100.496003 \nC 262.150103 80.648455 249.577883 63.344282 232.694549 51.077824 \nC 215.811215 38.811366 195.468938 32.201761 174.599991 32.201763 \nL 174.6 131.038126 \nL 268.598964 100.496003 \nz\n\" style=\"fill:#ff7f0e;\"/>\n   </g>\n   <g id=\"matplotlib.axis_1\"/>\n   <g id=\"matplotlib.axis_2\"/>\n   <g id=\"text_1\">\n    <!-- HONEST -->\n    <g transform=\"translate(69.047554 221.75383)scale(0.1 -0.1)\">\n     <defs>\n      <path d=\"M 628 4666 \nL 1259 4666 \nL 1259 2753 \nL 3553 2753 \nL 3553 4666 \nL 4184 4666 \nL 4184 0 \nL 3553 0 \nL 3553 2222 \nL 1259 2222 \nL 1259 0 \nL 628 0 \nL 628 4666 \nz\n\" id=\"DejaVuSans-48\" transform=\"scale(0.015625)\"/>\n      <path d=\"M 2522 4238 \nQ 1834 4238 1429 3725 \nQ 1025 3213 1025 2328 \nQ 1025 1447 1429 934 \nQ 1834 422 2522 422 \nQ 3209 422 3611 934 \nQ 4013 1447 4013 2328 \nQ 4013 3213 3611 3725 \nQ 3209 4238 2522 4238 \nz\nM 2522 4750 \nQ 3503 4750 4090 4092 \nQ 4678 3434 4678 2328 \nQ 4678 1225 4090 567 \nQ 3503 -91 2522 -91 \nQ 1538 -91 948 565 \nQ 359 1222 359 2328 \nQ 359 3434 948 4092 \nQ 1538 4750 2522 4750 \nz\n\" id=\"DejaVuSans-4f\" transform=\"scale(0.015625)\"/>\n      <path d=\"M 628 4666 \nL 1478 4666 \nL 3547 763 \nL 3547 4666 \nL 4159 4666 \nL 4159 0 \nL 3309 0 \nL 1241 3903 \nL 1241 0 \nL 628 0 \nL 628 4666 \nz\n\" id=\"DejaVuSans-4e\" transform=\"scale(0.015625)\"/>\n      <path d=\"M 628 4666 \nL 3578 4666 \nL 3578 4134 \nL 1259 4134 \nL 1259 2753 \nL 3481 2753 \nL 3481 2222 \nL 1259 2222 \nL 1259 531 \nL 3634 531 \nL 3634 0 \nL 628 0 \nL 628 4666 \nz\n\" id=\"DejaVuSans-45\" transform=\"scale(0.015625)\"/>\n      <path d=\"M 3425 4513 \nL 3425 3897 \nQ 3066 4069 2747 4153 \nQ 2428 4238 2131 4238 \nQ 1616 4238 1336 4038 \nQ 1056 3838 1056 3469 \nQ 1056 3159 1242 3001 \nQ 1428 2844 1947 2747 \nL 2328 2669 \nQ 3034 2534 3370 2195 \nQ 3706 1856 3706 1288 \nQ 3706 609 3251 259 \nQ 2797 -91 1919 -91 \nQ 1588 -91 1214 -16 \nQ 841 59 441 206 \nL 441 856 \nQ 825 641 1194 531 \nQ 1563 422 1919 422 \nQ 2459 422 2753 634 \nQ 3047 847 3047 1241 \nQ 3047 1584 2836 1778 \nQ 2625 1972 2144 2069 \nL 1759 2144 \nQ 1053 2284 737 2584 \nQ 422 2884 422 3419 \nQ 422 4038 858 4394 \nQ 1294 4750 2059 4750 \nQ 2388 4750 2728 4690 \nQ 3069 4631 3425 4513 \nz\n\" id=\"DejaVuSans-53\" transform=\"scale(0.015625)\"/>\n      <path d=\"M -19 4666 \nL 3928 4666 \nL 3928 4134 \nL 2272 4134 \nL 2272 0 \nL 1638 0 \nL 1638 4134 \nL -19 4134 \nL -19 4666 \nz\n\" id=\"DejaVuSans-54\" transform=\"scale(0.015625)\"/>\n     </defs>\n     <use xlink:href=\"#DejaVuSans-48\"/>\n     <use x=\"75.195312\" xlink:href=\"#DejaVuSans-4f\"/>\n     <use x=\"153.90625\" xlink:href=\"#DejaVuSans-4e\"/>\n     <use x=\"228.710938\" xlink:href=\"#DejaVuSans-45\"/>\n     <use x=\"291.894531\" xlink:href=\"#DejaVuSans-53\"/>\n     <use x=\"355.371094\" xlink:href=\"#DejaVuSans-54\"/>\n    </g>\n   </g>\n   <g id=\"text_2\">\n    <!-- SELFISH -->\n    <g transform=\"translate(238.504004 45.841169)scale(0.1 -0.1)\">\n     <defs>\n      <path d=\"M 628 4666 \nL 1259 4666 \nL 1259 531 \nL 3531 531 \nL 3531 0 \nL 628 0 \nL 628 4666 \nz\n\" id=\"DejaVuSans-4c\" transform=\"scale(0.015625)\"/>\n      <path d=\"M 628 4666 \nL 3309 4666 \nL 3309 4134 \nL 1259 4134 \nL 1259 2759 \nL 3109 2759 \nL 3109 2228 \nL 1259 2228 \nL 1259 0 \nL 628 0 \nL 628 4666 \nz\n\" id=\"DejaVuSans-46\" transform=\"scale(0.015625)\"/>\n      <path d=\"M 628 4666 \nL 1259 4666 \nL 1259 0 \nL 628 0 \nL 628 4666 \nz\n\" id=\"DejaVuSans-49\" transform=\"scale(0.015625)\"/>\n     </defs>\n     <use xlink:href=\"#DejaVuSans-53\"/>\n     <use x=\"63.476562\" xlink:href=\"#DejaVuSans-45\"/>\n     <use x=\"126.660156\" xlink:href=\"#DejaVuSans-4c\"/>\n     <use x=\"182.373047\" xlink:href=\"#DejaVuSans-46\"/>\n     <use x=\"239.892578\" xlink:href=\"#DejaVuSans-49\"/>\n     <use x=\"269.384766\" xlink:href=\"#DejaVuSans-53\"/>\n     <use x=\"332.861328\" xlink:href=\"#DejaVuSans-48\"/>\n    </g>\n   </g>\n   <g id=\"text_3\">\n    <!-- Miner Power -->\n    <g transform=\"translate(137.751563 16.318125)scale(0.12 -0.12)\">\n     <defs>\n      <path d=\"M 628 4666 \nL 1569 4666 \nL 2759 1491 \nL 3956 4666 \nL 4897 4666 \nL 4897 0 \nL 4281 0 \nL 4281 4097 \nL 3078 897 \nL 2444 897 \nL 1241 4097 \nL 1241 0 \nL 628 0 \nL 628 4666 \nz\n\" id=\"DejaVuSans-4d\" transform=\"scale(0.015625)\"/>\n      <path d=\"M 603 3500 \nL 1178 3500 \nL 1178 0 \nL 603 0 \nL 603 3500 \nz\nM 603 4863 \nL 1178 4863 \nL 1178 4134 \nL 603 4134 \nL 603 4863 \nz\n\" id=\"DejaVuSans-69\" transform=\"scale(0.015625)\"/>\n      <path d=\"M 3513 2113 \nL 3513 0 \nL 2938 0 \nL 2938 2094 \nQ 2938 2591 2744 2837 \nQ 2550 3084 2163 3084 \nQ 1697 3084 1428 2787 \nQ 1159 2491 1159 1978 \nL 1159 0 \nL 581 0 \nL 581 3500 \nL 1159 3500 \nL 1159 2956 \nQ 1366 3272 1645 3428 \nQ 1925 3584 2291 3584 \nQ 2894 3584 3203 3211 \nQ 3513 2838 3513 2113 \nz\n\" id=\"DejaVuSans-6e\" transform=\"scale(0.015625)\"/>\n      <path d=\"M 3597 1894 \nL 3597 1613 \nL 953 1613 \nQ 991 1019 1311 708 \nQ 1631 397 2203 397 \nQ 2534 397 2845 478 \nQ 3156 559 3463 722 \nL 3463 178 \nQ 3153 47 2828 -22 \nQ 2503 -91 2169 -91 \nQ 1331 -91 842 396 \nQ 353 884 353 1716 \nQ 353 2575 817 3079 \nQ 1281 3584 2069 3584 \nQ 2775 3584 3186 3129 \nQ 3597 2675 3597 1894 \nz\nM 3022 2063 \nQ 3016 2534 2758 2815 \nQ 2500 3097 2075 3097 \nQ 1594 3097 1305 2825 \nQ 1016 2553 972 2059 \nL 3022 2063 \nz\n\" id=\"DejaVuSans-65\" transform=\"scale(0.015625)\"/>\n      <path d=\"M 2631 2963 \nQ 2534 3019 2420 3045 \nQ 2306 3072 2169 3072 \nQ 1681 3072 1420 2755 \nQ 1159 2438 1159 1844 \nL 1159 0 \nL 581 0 \nL 581 3500 \nL 1159 3500 \nL 1159 2956 \nQ 1341 3275 1631 3429 \nQ 1922 3584 2338 3584 \nQ 2397 3584 2469 3576 \nQ 2541 3569 2628 3553 \nL 2631 2963 \nz\n\" id=\"DejaVuSans-72\" transform=\"scale(0.015625)\"/>\n      <path id=\"DejaVuSans-20\" transform=\"scale(0.015625)\"/>\n      <path d=\"M 1259 4147 \nL 1259 2394 \nL 2053 2394 \nQ 2494 2394 2734 2622 \nQ 2975 2850 2975 3272 \nQ 2975 3691 2734 3919 \nQ 2494 4147 2053 4147 \nL 1259 4147 \nz\nM 628 4666 \nL 2053 4666 \nQ 2838 4666 3239 4311 \nQ 3641 3956 3641 3272 \nQ 3641 2581 3239 2228 \nQ 2838 1875 2053 1875 \nL 1259 1875 \nL 1259 0 \nL 628 0 \nL 628 4666 \nz\n\" id=\"DejaVuSans-50\" transform=\"scale(0.015625)\"/>\n      <path d=\"M 1959 3097 \nQ 1497 3097 1228 2736 \nQ 959 2375 959 1747 \nQ 959 1119 1226 758 \nQ 1494 397 1959 397 \nQ 2419 397 2687 759 \nQ 2956 1122 2956 1747 \nQ 2956 2369 2687 2733 \nQ 2419 3097 1959 3097 \nz\nM 1959 3584 \nQ 2709 3584 3137 3096 \nQ 3566 2609 3566 1747 \nQ 3566 888 3137 398 \nQ 2709 -91 1959 -91 \nQ 1206 -91 779 398 \nQ 353 888 353 1747 \nQ 353 2609 779 3096 \nQ 1206 3584 1959 3584 \nz\n\" id=\"DejaVuSans-6f\" transform=\"scale(0.015625)\"/>\n      <path d=\"M 269 3500 \nL 844 3500 \nL 1563 769 \nL 2278 3500 \nL 2956 3500 \nL 3675 769 \nL 4391 3500 \nL 4966 3500 \nL 4050 0 \nL 3372 0 \nL 2619 2869 \nL 1863 0 \nL 1184 0 \nL 269 3500 \nz\n\" id=\"DejaVuSans-77\" transform=\"scale(0.015625)\"/>\n     </defs>\n     <use xlink:href=\"#DejaVuSans-4d\"/>\n     <use x=\"86.279297\" xlink:href=\"#DejaVuSans-69\"/>\n     <use x=\"114.0625\" xlink:href=\"#DejaVuSans-6e\"/>\n     <use x=\"177.441406\" xlink:href=\"#DejaVuSans-65\"/>\n     <use x=\"238.964844\" xlink:href=\"#DejaVuSans-72\"/>\n     <use x=\"280.078125\" xlink:href=\"#DejaVuSans-20\"/>\n     <use x=\"311.865234\" xlink:href=\"#DejaVuSans-50\"/>\n     <use x=\"368.542969\" xlink:href=\"#DejaVuSans-6f\"/>\n     <use x=\"429.724609\" xlink:href=\"#DejaVuSans-77\"/>\n     <use x=\"511.511719\" xlink:href=\"#DejaVuSans-65\"/>\n     <use x=\"573.035156\" xlink:href=\"#DejaVuSans-72\"/>\n    </g>\n   </g>\n  </g>\n </g>\n</svg>\n",
      "image/png": "[encoded data removed]"
     },
     "metadata": {}
    },
    {
     "output_type": "display_data",
     "data": {
      "text/plain": [
       "<Figure size 432x288 with 1 Axes>"
      ],
      "image/svg+xml": "<?xml version=\"1.0\" encoding=\"utf-8\" standalone=\"no\"?>\n<!DOCTYPE svg PUBLIC \"-//W3C//DTD SVG 1.1//EN\"\n  \"http://www.w3.org/Graphics/SVG/1.1/DTD/svg11.dtd\">\n<svg height=\"246.958125pt\" version=\"1.1\" viewBox=\"0 0 349.2 246.958125\" width=\"349.2pt\" xmlns=\"http://www.w3.org/2000/svg\" xmlns:xlink=\"http://www.w3.org/1999/xlink\">\n <metadata>\n  <rdf:RDF xmlns:cc=\"http://creativecommons.org/ns#\" xmlns:dc=\"http://purl.org/dc/elements/1.1/\" xmlns:rdf=\"http://www.w3.org/1999/02/22-rdf-syntax-ns#\">\n   <cc:Work>\n    <dc:type rdf:resource=\"http://purl.org/dc/dcmitype/StillImage\"/>\n    <dc:date>2021-08-12T10:16:38.483085</dc:date>\n    <dc:format>image/svg+xml</dc:format>\n    <dc:creator>\n     <cc:Agent>\n      <dc:title>Matplotlib v3.4.2, https://matplotlib.org/</dc:title>\n     </cc:Agent>\n    </dc:creator>\n   </cc:Work>\n  </rdf:RDF>\n </metadata>\n <defs>\n  <style type=\"text/css\">*{stroke-linecap:butt;stroke-linejoin:round;}</style>\n </defs>\n <g id=\"figure_1\">\n  <g id=\"patch_1\">\n   <path d=\"M 0 246.958125 \nL 349.2 246.958125 \nL 349.2 0 \nL 0 0 \nz\n\" style=\"fill:none;\"/>\n  </g>\n  <g id=\"axes_1\">\n   <g id=\"patch_2\">\n    <path d=\"M 174.479409 32.201761 \nC 164.346224 32.201761 154.273315 33.763669 144.615966 36.832393 \nC 134.958618 39.901118 125.831722 44.440151 117.557196 50.289396 \nC 109.28267 56.138641 101.958954 63.22851 95.844365 71.308934 \nC 89.729777 79.389359 84.897059 88.364206 81.51667 97.916924 \nC 78.13628 107.469642 76.248433 117.486582 75.919717 127.614434 \nC 75.591001 137.742287 76.825325 147.860562 79.579154 157.612376 \nC 82.332983 167.36419 86.573555 176.633527 92.151299 185.093445 \nC 97.729044 193.553363 104.577603 201.103217 112.45542 207.476713 \nC 120.333237 213.850209 129.146589 218.971523 138.584621 222.66002 \nC 148.022653 226.348517 157.97308 228.560315 168.084939 229.217402 \nC 178.196798 229.874489 188.349788 228.969046 198.185803 226.533011 \nC 208.021818 224.096976 217.423838 220.15933 226.060244 214.858957 \nC 234.69665 209.558585 242.464694 202.958544 249.090389 195.291627 \nC 255.716084 187.62471 261.120604 178.982129 265.113325 169.668718 \nC 269.106047 160.355307 271.639469 150.481866 272.624234 140.396645 \nC 273.608999 130.311424 273.033392 120.134404 270.917716 110.224542 \nL 174.479409 130.813353 \nL 174.479409 32.201761 \nz\n\" style=\"fill:#1f77b4;\"/>\n   </g>\n   <g id=\"patch_3\">\n    <path d=\"M 270.917716 110.224542 \nC 266.204814 88.149239 254.052106 68.347662 236.503407 54.149999 \nC 218.954707 39.952336 197.05221 32.201766 174.479428 32.201761 \nL 174.479409 130.813353 \nL 270.917716 110.224542 \nz\n\" style=\"fill:#ff7f0e;\"/>\n   </g>\n   <g id=\"matplotlib.axis_1\"/>\n   <g id=\"matplotlib.axis_2\"/>\n   <g id=\"text_1\">\n    <!-- HONEST -->\n    <g transform=\"translate(64.604583 217.902424)scale(0.1 -0.1)\">\n     <defs>\n      <path d=\"M 628 4666 \nL 1259 4666 \nL 1259 2753 \nL 3553 2753 \nL 3553 4666 \nL 4184 4666 \nL 4184 0 \nL 3553 0 \nL 3553 2222 \nL 1259 2222 \nL 1259 0 \nL 628 0 \nL 628 4666 \nz\n\" id=\"DejaVuSans-48\" transform=\"scale(0.015625)\"/>\n      <path d=\"M 2522 4238 \nQ 1834 4238 1429 3725 \nQ 1025 3213 1025 2328 \nQ 1025 1447 1429 934 \nQ 1834 422 2522 422 \nQ 3209 422 3611 934 \nQ 4013 1447 4013 2328 \nQ 4013 3213 3611 3725 \nQ 3209 4238 2522 4238 \nz\nM 2522 4750 \nQ 3503 4750 4090 4092 \nQ 4678 3434 4678 2328 \nQ 4678 1225 4090 567 \nQ 3503 -91 2522 -91 \nQ 1538 -91 948 565 \nQ 359 1222 359 2328 \nQ 359 3434 948 4092 \nQ 1538 4750 2522 4750 \nz\n\" id=\"DejaVuSans-4f\" transform=\"scale(0.015625)\"/>\n      <path d=\"M 628 4666 \nL 1478 4666 \nL 3547 763 \nL 3547 4666 \nL 4159 4666 \nL 4159 0 \nL 3309 0 \nL 1241 3903 \nL 1241 0 \nL 628 0 \nL 628 4666 \nz\n\" id=\"DejaVuSans-4e\" transform=\"scale(0.015625)\"/>\n      <path d=\"M 628 4666 \nL 3578 4666 \nL 3578 4134 \nL 1259 4134 \nL 1259 2753 \nL 3481 2753 \nL 3481 2222 \nL 1259 2222 \nL 1259 531 \nL 3634 531 \nL 3634 0 \nL 628 0 \nL 628 4666 \nz\n\" id=\"DejaVuSans-45\" transform=\"scale(0.015625)\"/>\n      <path d=\"M 3425 4513 \nL 3425 3897 \nQ 3066 4069 2747 4153 \nQ 2428 4238 2131 4238 \nQ 1616 4238 1336 4038 \nQ 1056 3838 1056 3469 \nQ 1056 3159 1242 3001 \nQ 1428 2844 1947 2747 \nL 2328 2669 \nQ 3034 2534 3370 2195 \nQ 3706 1856 3706 1288 \nQ 3706 609 3251 259 \nQ 2797 -91 1919 -91 \nQ 1588 -91 1214 -16 \nQ 841 59 441 206 \nL 441 856 \nQ 825 641 1194 531 \nQ 1563 422 1919 422 \nQ 2459 422 2753 634 \nQ 3047 847 3047 1241 \nQ 3047 1584 2836 1778 \nQ 2625 1972 2144 2069 \nL 1759 2144 \nQ 1053 2284 737 2584 \nQ 422 2884 422 3419 \nQ 422 4038 858 4394 \nQ 1294 4750 2059 4750 \nQ 2388 4750 2728 4690 \nQ 3069 4631 3425 4513 \nz\n\" id=\"DejaVuSans-53\" transform=\"scale(0.015625)\"/>\n      <path d=\"M -19 4666 \nL 3928 4666 \nL 3928 4134 \nL 2272 4134 \nL 2272 0 \nL 1638 0 \nL 1638 4134 \nL -19 4134 \nL -19 4666 \nz\n\" id=\"DejaVuSans-54\" transform=\"scale(0.015625)\"/>\n     </defs>\n     <use xlink:href=\"#DejaVuSans-48\"/>\n     <use x=\"75.195312\" xlink:href=\"#DejaVuSans-4f\"/>\n     <use x=\"153.90625\" xlink:href=\"#DejaVuSans-4e\"/>\n     <use x=\"228.710938\" xlink:href=\"#DejaVuSans-45\"/>\n     <use x=\"291.894531\" xlink:href=\"#DejaVuSans-53\"/>\n     <use x=\"355.371094\" xlink:href=\"#DejaVuSans-54\"/>\n    </g>\n   </g>\n   <g id=\"text_2\">\n    <!-- SELFISH -->\n    <g transform=\"translate(242.705806 49.243039)scale(0.1 -0.1)\">\n     <defs>\n      <path d=\"M 628 4666 \nL 1259 4666 \nL 1259 531 \nL 3531 531 \nL 3531 0 \nL 628 0 \nL 628 4666 \nz\n\" id=\"DejaVuSans-4c\" transform=\"scale(0.015625)\"/>\n      <path d=\"M 628 4666 \nL 3309 4666 \nL 3309 4134 \nL 1259 4134 \nL 1259 2759 \nL 3109 2759 \nL 3109 2228 \nL 1259 2228 \nL 1259 0 \nL 628 0 \nL 628 4666 \nz\n\" id=\"DejaVuSans-46\" transform=\"scale(0.015625)\"/>\n      <path d=\"M 628 4666 \nL 1259 4666 \nL 1259 0 \nL 628 0 \nL 628 4666 \nz\n\" id=\"DejaVuSans-49\" transform=\"scale(0.015625)\"/>\n     </defs>\n     <use xlink:href=\"#DejaVuSans-53\"/>\n     <use x=\"63.476562\" xlink:href=\"#DejaVuSans-45\"/>\n     <use x=\"126.660156\" xlink:href=\"#DejaVuSans-4c\"/>\n     <use x=\"182.373047\" xlink:href=\"#DejaVuSans-46\"/>\n     <use x=\"239.892578\" xlink:href=\"#DejaVuSans-49\"/>\n     <use x=\"269.384766\" xlink:href=\"#DejaVuSans-53\"/>\n     <use x=\"332.861328\" xlink:href=\"#DejaVuSans-48\"/>\n    </g>\n   </g>\n   <g id=\"text_3\">\n    <!-- Miner Reward -->\n    <g transform=\"translate(133.543125 16.318125)scale(0.12 -0.12)\">\n     <defs>\n      <path d=\"M 628 4666 \nL 1569 4666 \nL 2759 1491 \nL 3956 4666 \nL 4897 4666 \nL 4897 0 \nL 4281 0 \nL 4281 4097 \nL 3078 897 \nL 2444 897 \nL 1241 4097 \nL 1241 0 \nL 628 0 \nL 628 4666 \nz\n\" id=\"DejaVuSans-4d\" transform=\"scale(0.015625)\"/>\n      <path d=\"M 603 3500 \nL 1178 3500 \nL 1178 0 \nL 603 0 \nL 603 3500 \nz\nM 603 4863 \nL 1178 4863 \nL 1178 4134 \nL 603 4134 \nL 603 4863 \nz\n\" id=\"DejaVuSans-69\" transform=\"scale(0.015625)\"/>\n      <path d=\"M 3513 2113 \nL 3513 0 \nL 2938 0 \nL 2938 2094 \nQ 2938 2591 2744 2837 \nQ 2550 3084 2163 3084 \nQ 1697 3084 1428 2787 \nQ 1159 2491 1159 1978 \nL 1159 0 \nL 581 0 \nL 581 3500 \nL 1159 3500 \nL 1159 2956 \nQ 1366 3272 1645 3428 \nQ 1925 3584 2291 3584 \nQ 2894 3584 3203 3211 \nQ 3513 2838 3513 2113 \nz\n\" id=\"DejaVuSans-6e\" transform=\"scale(0.015625)\"/>\n      <path d=\"M 3597 1894 \nL 3597 1613 \nL 953 1613 \nQ 991 1019 1311 708 \nQ 1631 397 2203 397 \nQ 2534 397 2845 478 \nQ 3156 559 3463 722 \nL 3463 178 \nQ 3153 47 2828 -22 \nQ 2503 -91 2169 -91 \nQ 1331 -91 842 396 \nQ 353 884 353 1716 \nQ 353 2575 817 3079 \nQ 1281 3584 2069 3584 \nQ 2775 3584 3186 3129 \nQ 3597 2675 3597 1894 \nz\nM 3022 2063 \nQ 3016 2534 2758 2815 \nQ 2500 3097 2075 3097 \nQ 1594 3097 1305 2825 \nQ 1016 2553 972 2059 \nL 3022 2063 \nz\n\" id=\"DejaVuSans-65\" transform=\"scale(0.015625)\"/>\n      <path d=\"M 2631 2963 \nQ 2534 3019 2420 3045 \nQ 2306 3072 2169 3072 \nQ 1681 3072 1420 2755 \nQ 1159 2438 1159 1844 \nL 1159 0 \nL 581 0 \nL 581 3500 \nL 1159 3500 \nL 1159 2956 \nQ 1341 3275 1631 3429 \nQ 1922 3584 2338 3584 \nQ 2397 3584 2469 3576 \nQ 2541 3569 2628 3553 \nL 2631 2963 \nz\n\" id=\"DejaVuSans-72\" transform=\"scale(0.015625)\"/>\n      <path id=\"DejaVuSans-20\" transform=\"scale(0.015625)\"/>\n      <path d=\"M 2841 2188 \nQ 3044 2119 3236 1894 \nQ 3428 1669 3622 1275 \nL 4263 0 \nL 3584 0 \nL 2988 1197 \nQ 2756 1666 2539 1819 \nQ 2322 1972 1947 1972 \nL 1259 1972 \nL 1259 0 \nL 628 0 \nL 628 4666 \nL 2053 4666 \nQ 2853 4666 3247 4331 \nQ 3641 3997 3641 3322 \nQ 3641 2881 3436 2590 \nQ 3231 2300 2841 2188 \nz\nM 1259 4147 \nL 1259 2491 \nL 2053 2491 \nQ 2509 2491 2742 2702 \nQ 2975 2913 2975 3322 \nQ 2975 3731 2742 3939 \nQ 2509 4147 2053 4147 \nL 1259 4147 \nz\n\" id=\"DejaVuSans-52\" transform=\"scale(0.015625)\"/>\n      <path d=\"M 269 3500 \nL 844 3500 \nL 1563 769 \nL 2278 3500 \nL 2956 3500 \nL 3675 769 \nL 4391 3500 \nL 4966 3500 \nL 4050 0 \nL 3372 0 \nL 2619 2869 \nL 1863 0 \nL 1184 0 \nL 269 3500 \nz\n\" id=\"DejaVuSans-77\" transform=\"scale(0.015625)\"/>\n      <path d=\"M 2194 1759 \nQ 1497 1759 1228 1600 \nQ 959 1441 959 1056 \nQ 959 750 1161 570 \nQ 1363 391 1709 391 \nQ 2188 391 2477 730 \nQ 2766 1069 2766 1631 \nL 2766 1759 \nL 2194 1759 \nz\nM 3341 1997 \nL 3341 0 \nL 2766 0 \nL 2766 531 \nQ 2569 213 2275 61 \nQ 1981 -91 1556 -91 \nQ 1019 -91 701 211 \nQ 384 513 384 1019 \nQ 384 1609 779 1909 \nQ 1175 2209 1959 2209 \nL 2766 2209 \nL 2766 2266 \nQ 2766 2663 2505 2880 \nQ 2244 3097 1772 3097 \nQ 1472 3097 1187 3025 \nQ 903 2953 641 2809 \nL 641 3341 \nQ 956 3463 1253 3523 \nQ 1550 3584 1831 3584 \nQ 2591 3584 2966 3190 \nQ 3341 2797 3341 1997 \nz\n\" id=\"DejaVuSans-61\" transform=\"scale(0.015625)\"/>\n      <path d=\"M 2906 2969 \nL 2906 4863 \nL 3481 4863 \nL 3481 0 \nL 2906 0 \nL 2906 525 \nQ 2725 213 2448 61 \nQ 2172 -91 1784 -91 \nQ 1150 -91 751 415 \nQ 353 922 353 1747 \nQ 353 2572 751 3078 \nQ 1150 3584 1784 3584 \nQ 2172 3584 2448 3432 \nQ 2725 3281 2906 2969 \nz\nM 947 1747 \nQ 947 1113 1208 752 \nQ 1469 391 1925 391 \nQ 2381 391 2643 752 \nQ 2906 1113 2906 1747 \nQ 2906 2381 2643 2742 \nQ 2381 3103 1925 3103 \nQ 1469 3103 1208 2742 \nQ 947 2381 947 1747 \nz\n\" id=\"DejaVuSans-64\" transform=\"scale(0.015625)\"/>\n     </defs>\n     <use xlink:href=\"#DejaVuSans-4d\"/>\n     <use x=\"86.279297\" xlink:href=\"#DejaVuSans-69\"/>\n     <use x=\"114.0625\" xlink:href=\"#DejaVuSans-6e\"/>\n     <use x=\"177.441406\" xlink:href=\"#DejaVuSans-65\"/>\n     <use x=\"238.964844\" xlink:href=\"#DejaVuSans-72\"/>\n     <use x=\"280.078125\" xlink:href=\"#DejaVuSans-20\"/>\n     <use x=\"311.865234\" xlink:href=\"#DejaVuSans-52\"/>\n     <use x=\"376.847656\" xlink:href=\"#DejaVuSans-65\"/>\n     <use x=\"438.371094\" xlink:href=\"#DejaVuSans-77\"/>\n     <use x=\"520.158203\" xlink:href=\"#DejaVuSans-61\"/>\n     <use x=\"581.4375\" xlink:href=\"#DejaVuSans-72\"/>\n     <use x=\"620.800781\" xlink:href=\"#DejaVuSans-64\"/>\n    </g>\n   </g>\n  </g>\n </g>\n</svg>\n",
      "image/png": "[encoded data removed]"
     },
     "metadata": {}
    }
   ],
   "metadata": {}
  },
  {
   "cell_type": "code",
   "execution_count": null,
   "source": [],
   "outputs": [],
   "metadata": {}
  }
 ],
 "metadata": {
  "kernelspec": {
   "name": "python3",
   "display_name": "Python 3.7.0 64-bit"
  },
  "language_info": {
   "codemirror_mode": {
    "name": "ipython",
    "version": 3
   },
   "file_extension": ".py",
   "mimetype": "text/x-python",
   "name": "python",
   "nbconvert_exporter": "python",
   "pygments_lexer": "ipython3",
   "version": "3.7.0"
  },
  "metadata": {
   "interpreter": {
    "hash": "767d51c1340bd893661ea55ea3124f6de3c7a262a8b4abca0554b478b1e2ff90"
   }
  },
  "interpreter": {
   "hash": "e534e48711db4d1e1c48977d0d14ff85b1f16d41bcc4fdfd88268a329b3c9d66"
  }
 },
 "nbformat": 4,
 "nbformat_minor": 1
}