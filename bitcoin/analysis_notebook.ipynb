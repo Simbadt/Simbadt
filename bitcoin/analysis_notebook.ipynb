{
 "cells": [
  {
   "cell_type": "code",
   "execution_count": 1,
   "metadata": {
    "pycharm": {
     "name": "#%%\n"
    }
   },
   "outputs": [],
   "source": [
    "from analysis import *\n",
    "import matplotlib.pyplot as plt\n",
    "import pickle\n",
    "import os\n",
    "import numpy as np"
   ]
  },
  {
   "cell_type": "code",
   "execution_count": 48,
   "metadata": {
    "pycharm": {
     "name": "#%%\n"
    }
   },
   "outputs": [
    {
     "output_type": "stream",
     "name": "stdout",
     "text": [
      "one_node_one_second\n",
      "0\n",
      "Loaded 9 nodes.\n",
      "Total blocks:\t50104\n",
      "Stale rate:\t0.00443\n",
      "Block interval:\t601.3721307860393 iters\n",
      "50% delay:\t4.52 iters\n",
      "90% delay:\t9.18 iters\n",
      "Tx per second:\t35.149546640427175\n",
      "1\n",
      "Loaded 9 nodes.\n",
      "Total blocks:\t50010\n",
      "Stale rate:\t0.00628\n",
      "Block interval:\t603.6786533585544 iters\n",
      "50% delay:\t6.04 iters\n",
      "90% delay:\t9.79 iters\n",
      "Tx per second:\t35.06747650954016\n",
      "2\n",
      "Loaded 9 nodes.\n",
      "Total blocks:\t50226\n",
      "Stale rate:\t0.00333\n",
      "Block interval:\t599.2713144226927 iters\n",
      "50% delay:\t5.79 iters\n",
      "90% delay:\t7.56 iters\n",
      "Tx per second:\t35.215539715906885\n",
      "3\n",
      "Loaded 9 nodes.\n",
      "Total blocks:\t50281\n",
      "Stale rate:\t0.00338\n",
      "Block interval:\t598.646252394636 iters\n",
      "50% delay:\t4.45 iters\n",
      "90% delay:\t7.37 iters\n",
      "Tx per second:\t35.273390382166255\n",
      "4\n",
      "Loaded 9 nodes.\n",
      "Total blocks:\t50417\n",
      "Stale rate:\t0.0037\n",
      "Block interval:\t597.1800211016663 iters\n",
      "50% delay:\t3.95 iters\n",
      "90% delay:\t7.27 iters\n",
      "Tx per second:\t35.36369523097781\n",
      "5\n",
      "Loaded 9 nodes.\n",
      "Total blocks:\t49982\n",
      "Stale rate:\t0.00489\n",
      "Block interval:\t603.1525996220194 iters\n",
      "50% delay:\t5.84 iters\n",
      "90% delay:\t9.31 iters\n",
      "Tx per second:\t35.096222574334064\n",
      "6\n",
      "Loaded 9 nodes.\n",
      "Total blocks:\t49659\n",
      "Stale rate:\t0.0045\n",
      "Block interval:\t606.8317049982807 iters\n",
      "50% delay:\t5.81 iters\n",
      "90% delay:\t9.59 iters\n",
      "Tx per second:\t34.825953377634754\n",
      "7\n",
      "Loaded 9 nodes.\n",
      "Total blocks:\t49989\n",
      "Stale rate:\t0.00371\n",
      "Block interval:\t602.3613637732667 iters\n",
      "50% delay:\t4.34 iters\n",
      "90% delay:\t8.87 iters\n",
      "Tx per second:\t35.08731058034895\n",
      "8\n",
      "Loaded 9 nodes.\n",
      "Total blocks:\t50192\n",
      "Stale rate:\t0.00654\n",
      "Block interval:\t601.6053824248987 iters\n",
      "50% delay:\t5.98 iters\n",
      "90% delay:\t12.01 iters\n",
      "Tx per second:\t35.22501092096898\n",
      "9\n",
      "Loaded 9 nodes.\n",
      "Total blocks:\t49985\n",
      "Stale rate:\t0.00364\n",
      "Block interval:\t602.3614240106018 iters\n",
      "50% delay:\t4.02 iters\n",
      "90% delay:\t7.2 iters\n",
      "Tx per second:\t35.08567865910793\n"
     ]
    }
   ],
   "source": [
    "SIM_NAME = \"one_node_one_second\"\n",
    "SIM_REPS = 10\n",
    "SIM_ITERS = 30 * 10**6\n",
    "\n",
    "print(SIM_NAME)\n",
    "for REP in range(SIM_REPS): \n",
    "    print(REP)\n",
    "    location = f'../dumps/{SIM_NAME}_{REP}'\n",
    "    nodes = []\n",
    "    for filename in os.listdir(os.fsencode(location)):\n",
    "        filename = filename.decode(\"utf-8\")\n",
    "        with open(f'{location}/{filename}', 'rb') as f:\n",
    "            nodes.append(pickle.load(f))\n",
    "            \n",
    "    print(f'Loaded {len(nodes)} nodes.')\n",
    "\n",
    "    blocks = get_all_blocks(nodes)\n",
    "    print(f'Total blocks:\\t{len(blocks)}')\n",
    "\n",
    "    stale_rates = [stale_block_rate(node) for node in nodes]\n",
    "    print(f'Stale rate:\\t{round(np.mean(stale_rates), 5)}')\n",
    "\n",
    "    block_ints = [avg_block_interval(node) for node in nodes]\n",
    "    print(f'Block interval:\\t{np.mean(block_ints)} iters')\n",
    "\n",
    "    delays_50 = [block_percentile_delay(block, nodes, 0.5) for id, block in blocks.items()]\n",
    "    delays_90 = [block_percentile_delay(block, nodes, 0.9) for id, block in blocks.items()]\n",
    "    print(f'50% delay:\\t{round(np.mean(delays_50), 2)} iters')\n",
    "    print(f'90% delay:\\t{round(np.mean(delays_90), 2)} iters')\n",
    "\n",
    "    tps = transactions_per_second(blocks.values(), SIM_ITERS / 10)\n",
    "    print(f'Tx per second:\\t{tps}')"
   ]
  },
  {
   "cell_type": "code",
   "execution_count": null,
   "metadata": {},
   "outputs": [],
   "source": [
    "mine_regions = [block.miner.region.name for id, block in blocks.items()]\n",
    "REGIONS = set(mine_regions)\n",
    "region_counts = dict()\n",
    "\n",
    "for region in REGIONS:\n",
    "    region_counts[region] = mine_regions.count(region)\n",
    "\n",
    "sorted_counts = dict(sorted(region_counts.items(), key=lambda item: item[1], reverse=True))\n",
    "\n",
    "plt.bar(sorted_counts.keys(), sorted_counts.values())\n",
    "plt.xlabel('Region')\n",
    "plt.ylabel('Blocks Mined')\n",
    "plt.show()\n",
    "\n",
    "for region, count in sorted_counts.items():\n",
    "    print(region, round(100*count / sum(sorted_counts.values()), 2), '%')"
   ]
  }
 ],
 "metadata": {
  "kernelspec": {
   "name": "python370jvsc74a57bd0e534e48711db4d1e1c48977d0d14ff85b1f16d41bcc4fdfd88268a329b3c9d66",
   "display_name": "Python 3.7.0 64-bit"
  },
  "language_info": {
   "codemirror_mode": {
    "name": "ipython",
    "version": 3
   },
   "file_extension": ".py",
   "mimetype": "text/x-python",
   "name": "python",
   "nbconvert_exporter": "python",
   "pygments_lexer": "ipython3",
   "version": "3.7.0"
  },
  "metadata": {
   "interpreter": {
    "hash": "767d51c1340bd893661ea55ea3124f6de3c7a262a8b4abca0554b478b1e2ff90"
   }
  }
 },
 "nbformat": 4,
 "nbformat_minor": 1
}