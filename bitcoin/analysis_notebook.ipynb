{
 "cells": [
  {
   "cell_type": "code",
   "execution_count": 16,
   "source": [
    "from analysis import *\n",
    "import matplotlib.pyplot as plt\n",
    "import pickle\n",
    "import os\n",
    "import numpy as np\n",
    "from bookkeeper import *"
   ],
   "outputs": [],
   "metadata": {
    "pycharm": {
     "name": "#%%\n"
    }
   }
  },
  {
   "cell_type": "code",
   "execution_count": 18,
   "source": [
    "SIM_NAME = \"selfish_mine_test\"\n",
    "SIM_REPS = 1\n",
    "SIM_ITERS = 100000\n",
    "\n",
    "print(SIM_NAME)\n",
    "for REP in range(SIM_REPS): \n",
    "    print(REP)\n",
    "    location = f'../dumps/{SIM_NAME}_{REP}'\n",
    "    nodes = []\n",
    "    for filename in os.listdir(os.fsencode(location)):\n",
    "        filename = filename.decode(\"utf-8\")\n",
    "        with open(f'{location}/{filename}', 'rb') as f:\n",
    "            if filename ==  'bookkeeper':\n",
    "                bookkeeper = pickle.load(f)\n",
    "            else:\n",
    "                nodes.append(pickle.load(f))\n",
    "\n",
    "    an = Analysis(bookkeeper, nodes)\n",
    "            \n",
    "    print(f'Loaded {len(nodes)} nodes.')\n",
    "\n",
    "    blocks = an.get_all_blocks()\n",
    "    print(f'Total blocks:\\t{len(blocks)}')\n",
    "\n",
    "    stale_rates = [an.stale_block_rate(node) for node in nodes]\n",
    "    print(f'Stale rate:\\t{round(np.mean(stale_rates), 5)}')\n",
    "\n",
    "    block_ints = [an.avg_block_interval(node) for node in nodes]\n",
    "    print(f'Block interval:\\t{np.mean(block_ints)} iters')\n",
    "\n",
    "    # delays_50 = [an.block_percentile_delay(block, 0.5) for id, block in blocks.items()]\n",
    "    # delays_90 = [an.block_percentile_delay(block, 0.9) for id, block in blocks.items()]\n",
    "    # print(f'50% delay:\\t{round(np.mean(delays_50), 2)} iters')\n",
    "    # print(f'90% delay:\\t{round(np.mean(delays_90), 2)} iters')\n",
    "\n",
    "    # tps = an.transactions_per_second(blocks.values(), SIM_ITERS / 10)\n",
    "    # print(f'Tx per second:\\t{tps}')"
   ],
   "outputs": [
    {
     "output_type": "stream",
     "name": "stdout",
     "text": [
      "selfish_mine_test\n",
      "0\n",
      "Loaded 20 nodes.\n",
      "Total blocks:\t27\n",
      "Stale rate:\t0.0\n",
      "Block interval:\t42545.44416666667 iters\n"
     ]
    }
   ],
   "metadata": {
    "pycharm": {
     "name": "#%%\n"
    }
   }
  },
  {
   "cell_type": "code",
   "execution_count": 19,
   "source": [
    "honest = [node for node in nodes if 'HNST' in node.name]\n",
    "selfish = [node for node in nodes if 'SFSH' in node.name]\n",
    "print(len(honest))\n",
    "print(len(selfish))"
   ],
   "outputs": [
    {
     "output_type": "stream",
     "name": "stdout",
     "text": [
      "12\n",
      "8\n"
     ]
    }
   ],
   "metadata": {}
  },
  {
   "cell_type": "code",
   "execution_count": 20,
   "source": [
    "print(honest[0].print_blockchain())"
   ],
   "outputs": [
    {
     "output_type": "stream",
     "name": "stderr",
     "text": [
      "2021-08-10 10:21:14.647 | WARNING  | sim.base_models:print_blockchain:186 - HNST_9\n",
      "2021-08-10 10:21:14.649 | WARNING  | sim.base_models:print_blockchain:187 - \tBLOCKCHAIN:\n",
      "2021-08-10 10:21:14.649 | WARNING  | sim.base_models:print_blockchain:189 - \t\tBLOCK (id:419c4174-9a85-484d-b2a7-e3ed23ab8fe7, prev: None)\n",
      "2021-08-10 10:21:14.650 | WARNING  | sim.base_models:print_blockchain:189 - \t\tBLOCK (id:1df8fcc8-5de7-4076-a8a3-10d06539d372, prev: 419c4174-9a85-484d-b2a7-e3ed23ab8fe7)\n",
      "2021-08-10 10:21:14.651 | WARNING  | sim.base_models:print_blockchain:189 - \t\tBLOCK (id:2717df8b-914e-426e-b44e-9714fd45d1d0, prev: 1df8fcc8-5de7-4076-a8a3-10d06539d372)\n",
      "2021-08-10 10:21:14.652 | WARNING  | sim.base_models:print_blockchain:189 - \t\tBLOCK (id:78a36b62-bd30-42b0-b1c9-1be1e624ef5c, prev: 2717df8b-914e-426e-b44e-9714fd45d1d0)\n",
      "2021-08-10 10:21:14.654 | WARNING  | sim.base_models:print_blockchain:189 - \t\tBLOCK (id:8b28e384-1de7-4ea8-a545-c95e74cce4c0, prev: 78a36b62-bd30-42b0-b1c9-1be1e624ef5c)\n",
      "2021-08-10 10:21:14.655 | WARNING  | sim.base_models:print_blockchain:190 - \tHEADS:\n",
      "2021-08-10 10:21:14.656 | WARNING  | sim.base_models:print_blockchain:193 - \t\t*** BLOCK (id:8b28e384-1de7-4ea8-a545-c95e74cce4c0, prev: 78a36b62-bd30-42b0-b1c9-1be1e624ef5c)\n"
     ]
    },
    {
     "output_type": "stream",
     "name": "stdout",
     "text": [
      "None\n"
     ]
    }
   ],
   "metadata": {}
  },
  {
   "cell_type": "code",
   "execution_count": 22,
   "source": [
    "print(selfish[0].print_blockchain())"
   ],
   "outputs": [
    {
     "output_type": "stream",
     "name": "stderr",
     "text": [
      "2021-08-10 10:21:21.209 | WARNING  | sim.base_models:print_blockchain:186 - SFSH_0\n",
      "2021-08-10 10:21:21.210 | WARNING  | sim.base_models:print_blockchain:187 - \tBLOCKCHAIN:\n",
      "2021-08-10 10:21:21.211 | WARNING  | sim.base_models:print_blockchain:189 - \t\tBLOCK (id:419c4174-9a85-484d-b2a7-e3ed23ab8fe7, prev: None)\n",
      "2021-08-10 10:21:21.211 | WARNING  | sim.base_models:print_blockchain:190 - \tHEADS:\n",
      "2021-08-10 10:21:21.212 | WARNING  | sim.base_models:print_blockchain:195 - \t\tBLOCK (id:419c4174-9a85-484d-b2a7-e3ed23ab8fe7, prev: None)\n"
     ]
    },
    {
     "output_type": "stream",
     "name": "stdout",
     "text": [
      "None\n"
     ]
    }
   ],
   "metadata": {}
  },
  {
   "cell_type": "code",
   "execution_count": 23,
   "source": [
    "main_chain = an.get_longest_chain(an.get_all_blocks())"
   ],
   "outputs": [],
   "metadata": {}
  },
  {
   "cell_type": "code",
   "execution_count": 24,
   "source": [
    "for block in main_chain:\n",
    "    print(block.miner)"
   ],
   "outputs": [
    {
     "output_type": "stream",
     "name": "stdout",
     "text": [
      "HNST_9\n",
      "HNST_9\n",
      "HNST_9\n",
      "HNST_9\n"
     ]
    }
   ],
   "metadata": {}
  }
 ],
 "metadata": {
  "kernelspec": {
   "name": "python3",
   "display_name": "Python 3.7.0 64-bit"
  },
  "language_info": {
   "codemirror_mode": {
    "name": "ipython",
    "version": 3
   },
   "file_extension": ".py",
   "mimetype": "text/x-python",
   "name": "python",
   "nbconvert_exporter": "python",
   "pygments_lexer": "ipython3",
   "version": "3.7.0"
  },
  "metadata": {
   "interpreter": {
    "hash": "767d51c1340bd893661ea55ea3124f6de3c7a262a8b4abca0554b478b1e2ff90"
   }
  },
  "interpreter": {
   "hash": "e534e48711db4d1e1c48977d0d14ff85b1f16d41bcc4fdfd88268a329b3c9d66"
  }
 },
 "nbformat": 4,
 "nbformat_minor": 1
}