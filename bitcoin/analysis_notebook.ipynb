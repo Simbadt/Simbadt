{
 "cells": [
  {
   "cell_type": "code",
   "execution_count": 1,
   "metadata": {
    "pycharm": {
     "name": "#%%\n"
    }
   },
   "outputs": [],
   "source": [
    "from analysis import *\n",
    "import matplotlib.pyplot as plt\n",
    "import pickle\n",
    "import os\n",
    "import numpy as np"
   ]
  },
  {
   "cell_type": "code",
   "execution_count": 46,
   "metadata": {
    "pycharm": {
     "name": "#%%\n"
    }
   },
   "outputs": [
    {
     "output_type": "stream",
     "name": "stdout",
     "text": [
      "reveal_testing\n0\nLoaded 9 nodes.\nTotal blocks:\t169\nStale rate:\t0.0\nBlock interval:\t5877.558823529412 iters\n50% delay:\t24.15 iters\n90% delay:\t52.53 iters\nTx per second:\t35.663624446608154\n"
     ]
    }
   ],
   "source": [
    "SIM_NAME = \"reveal_testing\"\n",
    "SIM_REPS = 1\n",
    "SIM_ITERS = 100000\n",
    "\n",
    "print(SIM_NAME)\n",
    "for REP in range(SIM_REPS): \n",
    "    print(REP)\n",
    "    location = f'../dumps/{SIM_NAME}_{REP}'\n",
    "    nodes = []\n",
    "    for filename in os.listdir(os.fsencode(location)):\n",
    "        filename = filename.decode(\"utf-8\")\n",
    "        with open(f'{location}/{filename}', 'rb') as f:\n",
    "            nodes.append(pickle.load(f))\n",
    "            \n",
    "    print(f'Loaded {len(nodes)} nodes.')\n",
    "\n",
    "    blocks = get_all_blocks(nodes)\n",
    "    print(f'Total blocks:\\t{len(blocks)}')\n",
    "\n",
    "    stale_rates = [stale_block_rate(node) for node in nodes]\n",
    "    print(f'Stale rate:\\t{round(np.mean(stale_rates), 5)}')\n",
    "\n",
    "    block_ints = [avg_block_interval(node) for node in nodes]\n",
    "    print(f'Block interval:\\t{np.mean(block_ints)} iters')\n",
    "\n",
    "    delays_50 = [block_percentile_delay(block, nodes, 0.5) for id, block in blocks.items()]\n",
    "    delays_90 = [block_percentile_delay(block, nodes, 0.9) for id, block in blocks.items()]\n",
    "    print(f'50% delay:\\t{round(np.mean(delays_50), 2)} iters')\n",
    "    print(f'90% delay:\\t{round(np.mean(delays_90), 2)} iters')\n",
    "\n",
    "    tps = transactions_per_second(blocks.values(), SIM_ITERS / 10)\n",
    "    print(f'Tx per second:\\t{tps}')"
   ]
  },
  {
   "cell_type": "code",
   "execution_count": null,
   "metadata": {},
   "outputs": [],
   "source": [
    "mine_regions = [block.miner.region.name for id, block in blocks.items()]\n",
    "REGIONS = set(mine_regions)\n",
    "region_counts = dict()\n",
    "\n",
    "for region in REGIONS:\n",
    "    region_counts[region] = mine_regions.count(region)\n",
    "\n",
    "sorted_counts = dict(sorted(region_counts.items(), key=lambda item: item[1], reverse=True))\n",
    "\n",
    "plt.bar(sorted_counts.keys(), sorted_counts.values())\n",
    "plt.xlabel('Region')\n",
    "plt.ylabel('Blocks Mined')\n",
    "plt.show()\n",
    "\n",
    "for region, count in sorted_counts.items():\n",
    "    print(region, round(100*count / sum(sorted_counts.values()), 2), '%')"
   ]
  }
 ],
 "metadata": {
  "kernelspec": {
   "name": "python370jvsc74a57bd0e534e48711db4d1e1c48977d0d14ff85b1f16d41bcc4fdfd88268a329b3c9d66",
   "display_name": "Python 3.7.0 64-bit"
  },
  "language_info": {
   "codemirror_mode": {
    "name": "ipython",
    "version": 3
   },
   "file_extension": ".py",
   "mimetype": "text/x-python",
   "name": "python",
   "nbconvert_exporter": "python",
   "pygments_lexer": "ipython3",
   "version": "3.7.0"
  },
  "metadata": {
   "interpreter": {
    "hash": "767d51c1340bd893661ea55ea3124f6de3c7a262a8b4abca0554b478b1e2ff90"
   }
  }
 },
 "nbformat": 4,
 "nbformat_minor": 1
}