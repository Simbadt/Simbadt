{
 "cells": [
  {
   "cell_type": "code",
   "execution_count": 2,
   "metadata": {
    "pycharm": {
     "name": "#%%\n"
    }
   },
   "outputs": [],
   "source": [
    "from analysis import *\n",
    "import matplotlib.pyplot as plt\n",
    "import pickle\n",
    "import os\n",
    "import numpy as np"
   ]
  },
  {
   "cell_type": "code",
   "execution_count": 3,
   "metadata": {
    "pycharm": {
     "name": "#%%\n"
    }
   },
   "outputs": [
    {
     "output_type": "stream",
     "name": "stdout",
     "text": [
      "4k_nodes_8_conns\n",
      "0\n",
      "Loaded 4475 nodes.\n",
      "Total blocks:\t2455\n",
      "Stale rate:\t0.00774\n",
      "Block interval:\t6152.195322117358 iters\n",
      "50% delay:\t31.43 iters\n",
      "90% delay:\t36.16 iters\n",
      "Tx per second:\t3.445274226174924\n"
     ]
    }
   ],
   "source": [
    "SIM_NAME = \"4k_nodes_8_conns\"\n",
    "SIM_REPS = 1\n",
    "SIM_ITERS = 15000000\n",
    "\n",
    "print(SIM_NAME)\n",
    "for REP in range(SIM_REPS): \n",
    "    print(REP)\n",
    "    location = f'../dumps/{SIM_NAME}_{REP}'\n",
    "    nodes = []\n",
    "    for filename in os.listdir(os.fsencode(location)):\n",
    "        filename = filename.decode(\"utf-8\")\n",
    "        with open(f'{location}/{filename}', 'rb') as f:\n",
    "            nodes.append(pickle.load(f))\n",
    "            \n",
    "    print(f'Loaded {len(nodes)} nodes.')\n",
    "\n",
    "    blocks = get_all_blocks(nodes)\n",
    "    print(f'Total blocks:\\t{len(blocks)}')\n",
    "\n",
    "    stale_rates = [stale_block_rate(node) for node in nodes]\n",
    "    print(f'Stale rate:\\t{round(np.mean(stale_rates), 5)}')\n",
    "\n",
    "    block_ints = [avg_block_interval(node) for node in nodes]\n",
    "    print(f'Block interval:\\t{np.mean(block_ints)} iters')\n",
    "\n",
    "    delays_50 = [block_percentile_delay(block, nodes, 0.5) for id, block in blocks.items()]\n",
    "    delays_90 = [block_percentile_delay(block, nodes, 0.9) for id, block in blocks.items()]\n",
    "    print(f'50% delay:\\t{round(np.mean(delays_50), 2)} iters')\n",
    "    print(f'90% delay:\\t{round(np.mean(delays_90), 2)} iters')\n",
    "\n",
    "    tps = transactions_per_second(blocks.values(), SIM_ITERS / 10)\n",
    "    print(f'Tx per second:\\t{tps}')"
   ]
  },
  {
   "cell_type": "code",
   "execution_count": null,
   "metadata": {},
   "outputs": [],
   "source": [
    "mine_regions = [block.miner.region.name for id, block in blocks.items()]\n",
    "REGIONS = set(mine_regions)\n",
    "region_counts = dict()\n",
    "\n",
    "for region in REGIONS:\n",
    "    region_counts[region] = mine_regions.count(region)\n",
    "\n",
    "sorted_counts = dict(sorted(region_counts.items(), key=lambda item: item[1], reverse=True))\n",
    "\n",
    "plt.bar(sorted_counts.keys(), sorted_counts.values())\n",
    "plt.xlabel('Region')\n",
    "plt.ylabel('Blocks Mined')\n",
    "plt.show()\n",
    "\n",
    "for region, count in sorted_counts.items():\n",
    "    print(region, round(100*count / sum(sorted_counts.values()), 2), '%')"
   ]
  }
 ],
 "metadata": {
  "kernelspec": {
   "name": "python370jvsc74a57bd0e534e48711db4d1e1c48977d0d14ff85b1f16d41bcc4fdfd88268a329b3c9d66",
   "display_name": "Python 3.7.0 64-bit"
  },
  "language_info": {
   "codemirror_mode": {
    "name": "ipython",
    "version": 3
   },
   "file_extension": ".py",
   "mimetype": "text/x-python",
   "name": "python",
   "nbconvert_exporter": "python",
   "pygments_lexer": "ipython3",
   "version": "3.7.0"
  },
  "metadata": {
   "interpreter": {
    "hash": "767d51c1340bd893661ea55ea3124f6de3c7a262a8b4abca0554b478b1e2ff90"
   }
  }
 },
 "nbformat": 4,
 "nbformat_minor": 1
}