{
 "cells": [
  {
   "cell_type": "code",
   "execution_count": 1,
   "metadata": {
    "pycharm": {
     "name": "#%%\n"
    }
   },
   "outputs": [],
   "source": [
    "from analysis import *\n",
    "import matplotlib.pyplot as plt\n",
    "import pickle"
   ]
  },
  {
   "cell_type": "code",
   "execution_count": 2,
   "metadata": {
    "pycharm": {
     "name": "#%%\n"
    }
   },
   "outputs": [
    {
     "name": "stdout",
     "output_type": "stream",
     "text": [
      "Loaded 16 nodes.\n"
     ]
    }
   ],
   "source": [
    "nodes = []\n",
    "\n",
    "for filename in os.listdir(os.fsencode('dumps')):\n",
    "    filename = filename.decode(\"utf-8\")\n",
    "    with open(f'dumps/{filename}', 'rb') as f:\n",
    "        nodes.append(pickle.load(f))\n",
    "        \n",
    "print(f'Loaded {len(nodes)} nodes.')"
   ]
  },
  {
   "cell_type": "code",
   "execution_count": 6,
   "metadata": {
    "scrolled": false
   },
   "outputs": [
    {
     "name": "stdout",
     "output_type": "stream",
     "text": [
      "MINER_US_5\n",
      "MINER_US_7\n",
      "MINER_US_5\n",
      "MINER_US_5\n",
      "MINER_US_6\n",
      "MINER_US_2\n",
      "MINER_US_2\n",
      "MINER_US_7\n",
      "MINER_US_4\n",
      "MINER_US_5\n",
      "MINER_US_7\n",
      "MINER_US_4\n",
      "MINER_US_1\n",
      "MINER_US_1\n",
      "MINER_US_6\n",
      "MINER_US_7\n",
      "MINER_US_3\n",
      "MINER_CH_0\n",
      "MINER_CH_0\n",
      "MINER_CH_0\n",
      "MINER_CH_0\n",
      "MINER_CH_0\n",
      "MINER_CH_0\n",
      "MINER_RU_0\n",
      "MINER_CH_0\n",
      "MINER_CH_0\n",
      "MINER_CH_0\n",
      "MINER_CH_0\n",
      "MINER_RU_0\n",
      "MINER_CH_0\n",
      "MINER_CH_0\n",
      "MINER_CH_0\n",
      "MINER_CH_0\n",
      "MINER_CH_0\n",
      "MINER_CH_0\n",
      "MINER_CH_0\n"
     ]
    }
   ],
   "source": [
    "blocks = get_all_blocks(nodes)\n",
    "for id, block in blocks.items(): \n",
    "    print(block.miner)"
   ]
  },
  {
   "cell_type": "code",
   "execution_count": null,
   "metadata": {},
   "outputs": [],
   "source": []
  }
 ],
 "metadata": {
  "kernelspec": {
   "display_name": "Python 3",
   "language": "python",
   "name": "python3"
  },
  "language_info": {
   "codemirror_mode": {
    "name": "ipython",
    "version": 3
   },
   "file_extension": ".py",
   "mimetype": "text/x-python",
   "name": "python",
   "nbconvert_exporter": "python",
   "pygments_lexer": "ipython3",
   "version": "3.7.0"
  }
 },
 "nbformat": 4,
 "nbformat_minor": 1
}
