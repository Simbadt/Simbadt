{
 "cells": [
  {
   "cell_type": "code",
   "execution_count": 44,
   "metadata": {
    "pycharm": {
     "name": "#%%\n"
    }
   },
   "outputs": [],
   "source": [
    "from analysis import *\n",
    "import matplotlib.pyplot as plt\n",
    "import pickle\n",
    "import os\n",
    "import numpy as np"
   ]
  },
  {
   "cell_type": "code",
   "execution_count": 45,
   "metadata": {
    "pycharm": {
     "name": "#%%\n"
    }
   },
   "outputs": [
    {
     "name": "stdout",
     "output_type": "stream",
     "text": [
      "Loaded 9 nodes.\n",
      "29999999 simulation steps.\n"
     ]
    }
   ],
   "source": [
    "SIM_NAME = \"one_node_regions_30m\"\n",
    "nodes = []\n",
    "\n",
    "for filename in os.listdir(os.fsencode(f'dumps/{SIM_NAME}')):\n",
    "    filename = filename.decode(\"utf-8\")\n",
    "    with open(f'dumps/{SIM_NAME}/{filename}', 'rb') as f:\n",
    "        nodes.append(pickle.load(f))\n",
    "        \n",
    "print(f'Loaded {len(nodes)} nodes.')\n",
    "print(f'{nodes[0].timestamp} simulation steps.')"
   ]
  },
  {
   "cell_type": "code",
   "execution_count": 46,
   "metadata": {
    "scrolled": false
   },
   "outputs": [
    {
     "name": "stdout",
     "output_type": "stream",
     "text": [
      "5048 blocks in total.\n"
     ]
    }
   ],
   "source": [
    "blocks = get_all_blocks(nodes)\n",
    "print(f'{len(blocks)} blocks in total.')"
   ]
  },
  {
   "cell_type": "code",
   "execution_count": 51,
   "metadata": {},
   "outputs": [
    {
     "name": "stdout",
     "output_type": "stream",
     "text": [
      "Stale block rate: 0.00139\n"
     ]
    }
   ],
   "source": [
    "stale_rates = [stale_block_rate(node) for node in nodes]\n",
    "print(f'Stale block rate: {round(np.mean(stale_rates), 5)}')"
   ]
  },
  {
   "cell_type": "code",
   "execution_count": 48,
   "metadata": {},
   "outputs": [
    {
     "name": "stdout",
     "output_type": "stream",
     "text": [
      "Average block interval: 5949.571400238001 iters\n"
     ]
    }
   ],
   "source": [
    "block_ints = [avg_block_interval(node) for node in nodes]\n",
    "print(f'Average block interval: {np.mean(block_ints)} iters')"
   ]
  },
  {
   "cell_type": "code",
   "execution_count": 53,
   "metadata": {},
   "outputs": [
    {
     "name": "stdout",
     "output_type": "stream",
     "text": [
      "50% delay: 21.81 iters\n",
      "90% delay: 33.87 iters\n"
     ]
    }
   ],
   "source": [
    "delays_50 = [block_percentile_delay(block, nodes, 0.5) for id, block in blocks.items()]\n",
    "delays_90 = [block_percentile_delay(block, nodes, 0.9) for id, block in blocks.items()]\n",
    "print(f'50% delay: {round(np.mean(delays_50), 2)} iters')\n",
    "print(f'90% delay: {round(np.mean(delays_90), 2)} iters')"
   ]
  },
  {
   "cell_type": "code",
   "execution_count": 54,
   "metadata": {},
   "outputs": [
    {
     "data": {
      "image/png": "[encoded data removed]",
      "text/plain": [
       "<Figure size 432x288 with 1 Axes>"
      ]
     },
     "metadata": {
      "needs_background": "light"
     },
     "output_type": "display_data"
    },
    {
     "name": "stdout",
     "output_type": "stream",
     "text": [
      "CH 71.39 %\n",
      "US 7.75 %\n",
      "RU 7.43 %\n",
      "KZ 6.56 %\n",
      "ML 4.73 %\n",
      "CN 0.65 %\n",
      "VN 0.55 %\n",
      "NR 0.48 %\n",
      "GE 0.46 %\n"
     ]
    }
   ],
   "source": [
    "mine_regions = [block.miner.region.name for id, block in blocks.items()]\n",
    "REGIONS = set(mine_regions)\n",
    "region_counts = dict()\n",
    "\n",
    "for region in REGIONS:\n",
    "    region_counts[region] = mine_regions.count(region)\n",
    "\n",
    "sorted_counts = dict(sorted(region_counts.items(), key=lambda item: item[1], reverse=True))\n",
    "\n",
    "plt.bar(sorted_counts.keys(), sorted_counts.values())\n",
    "plt.xlabel('Region')\n",
    "plt.ylabel('Blocks Mined')\n",
    "plt.show()\n",
    "\n",
    "for region, count in sorted_counts.items():\n",
    "    print(region, round(100*count / sum(sorted_counts.values()), 2), '%')"
   ]
  },
  {
   "cell_type": "code",
   "execution_count": 56,
   "metadata": {},
   "outputs": [
    {
     "name": "stdout",
     "output_type": "stream",
     "text": [
      "MINER_KZ_0 5\n",
      "MINER_CN_0 4\n",
      "MINER_ML_0 3\n",
      "MINER_GE_0 6\n",
      "MINER_RU_0 5\n",
      "MINER_VN_0 4\n",
      "MINER_US_0 5\n",
      "MINER_CH_0 4\n",
      "MINER_NR_0 4\n"
     ]
    }
   ],
   "source": [
    "for node in nodes:\n",
    "    print(node.name, len(node.ins))"
   ]
  }
 ],
 "metadata": {
  "kernelspec": {
   "display_name": "Python 3",
   "language": "python",
   "name": "python3"
  },
  "language_info": {
   "codemirror_mode": {
    "name": "ipython",
    "version": 3
   },
   "file_extension": ".py",
   "mimetype": "text/x-python",
   "name": "python",
   "nbconvert_exporter": "python",
   "pygments_lexer": "ipython3",
   "version": "3.7.0"
  }
 },
 "nbformat": 4,
 "nbformat_minor": 1
}
